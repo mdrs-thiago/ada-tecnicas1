{
 "cells": [
  {
   "cell_type": "markdown",
   "metadata": {},
   "source": [
    "# Introdução - Pandas"
   ]
  },
  {
   "cell_type": "markdown",
   "metadata": {},
   "source": [
    "## Primeiro... por que pandas?"
   ]
  },
  {
   "cell_type": "markdown",
   "metadata": {},
   "source": [
    "No dia-a-dia, mexemos com diferentes planilhas contendo um alto volume de dados. \n",
    "Quais são as ferramentas que geralmente são usadas para essas tarefas?"
   ]
  },
  {
   "cell_type": "code",
   "execution_count": null,
   "metadata": {},
   "outputs": [],
   "source": []
  },
  {
   "cell_type": "code",
   "execution_count": 20,
   "metadata": {},
   "outputs": [],
   "source": [
    "import requests "
   ]
  },
  {
   "cell_type": "code",
   "execution_count": 22,
   "metadata": {},
   "outputs": [],
   "source": [
    "res = requests.get('http://localhost:3000/api/ep1')"
   ]
  },
  {
   "cell_type": "code",
   "execution_count": 26,
   "metadata": {},
   "outputs": [],
   "source": [
    "res_json = res.json()"
   ]
  },
  {
   "cell_type": "code",
   "execution_count": 30,
   "metadata": {},
   "outputs": [
    {
     "data": {
      "text/plain": [
       "{'id': 'l9xcihwbs00qyxs9sb',\n",
       " 'date': 1579157408.382717,\n",
       " 'prod_0': 14.545636714798993,\n",
       " 'prod_2': 8.319817182254852,\n",
       " 'prod_4': 49.31354050791398,\n",
       " 'prod_5': 9.556853714046575,\n",
       " 'prod_6': 39.13126479194862,\n",
       " 'prod_8': 224.84514120544515,\n",
       " 'prod_9': 16.16028328840158,\n",
       " 'prod_11': 555.9687702667047}"
      ]
     },
     "execution_count": 30,
     "metadata": {},
     "output_type": "execute_result"
    }
   ],
   "source": [
    "res_json[3]"
   ]
  },
  {
   "cell_type": "markdown",
   "metadata": {},
   "source": [
    "Agora imagine que você queira carregar essa base de dados em Python para fazer transformações nos dados, pré-processamento ou qualquer outra análise. Com o conhecimento adquirido até agora, como podemos fazer a leitura deste arquivo?"
   ]
  },
  {
   "cell_type": "code",
   "execution_count": null,
   "metadata": {},
   "outputs": [],
   "source": []
  },
  {
   "cell_type": "markdown",
   "metadata": {},
   "source": [
    "Nesta aula, aprenderemos a carregar e manipular uma base de dados usando a biblioteca `pandas`. O Pandas (derivado de panel data) é uma biblioteca para Python muito versátil e simples de se utilizar para trabalhar com dados em tabelas (i.e. dados tabulares, ou estruturados).\n",
    "\n",
    "! Qual é a diferença entre dados estruturados e não-estruturados?"
   ]
  },
  {
   "cell_type": "code",
   "execution_count": null,
   "metadata": {},
   "outputs": [],
   "source": []
  },
  {
   "cell_type": "markdown",
   "metadata": {},
   "source": [
    "Existem duas estruturas básicas para `pandas`:\n",
    "\n",
    "- `pandas.DataFrame`\n",
    "\n",
    "- `pandas.Series`\n",
    "\n",
    "Nesta aula, falaremos sobre o funcionamento do DataFrame. É importante notar que `pandas` foi desenvolvido em cima da biblioteca `numpy` e, portanto, a maioria das manipulações numéricas destes dados tabulares são feitas com o auxílio de `np.array` e seus métodos. "
   ]
  },
  {
   "cell_type": "markdown",
   "metadata": {},
   "source": []
  },
  {
   "cell_type": "markdown",
   "metadata": {},
   "source": [
    "### O que é `pandas.DataFrame`"
   ]
  },
  {
   "cell_type": "markdown",
   "metadata": {},
   "source": [
    "`pandas.DataFrame` é uma estrutura em `pandas` para acomodação de tabelas (i.e. linhas e colunas). \n",
    "\n",
    "Usamos o `pd.DataFrame()` para criar a nossa base de dados. "
   ]
  },
  {
   "cell_type": "code",
   "execution_count": 1,
   "metadata": {},
   "outputs": [],
   "source": [
    "import pandas as pd \n",
    "import numpy as np "
   ]
  },
  {
   "cell_type": "markdown",
   "metadata": {},
   "source": [
    "Temos algumas formas para a criação usando `pd.DataFrame`:\n",
    "\n",
    "- `dict` usando a chave como o *header* da coluna e uma lista como valores para o tal atributo. \n",
    "\n",
    "- `np.array` \n",
    "\n",
    "- `pd.DataFrame`\n",
    "\n",
    "- Outros iteráveis. "
   ]
  },
  {
   "cell_type": "markdown",
   "metadata": {},
   "source": [
    "Usando dicionário"
   ]
  },
  {
   "cell_type": "code",
   "execution_count": 4,
   "metadata": {},
   "outputs": [],
   "source": [
    "vals = {'Produto 1':[1,2,3,4], 'Produto 2': [0, 0, 10, 3], 'Produto 3': [0, 5, 7, 10], 'Novo?': ['Não','Sim','Sim','Não']}"
   ]
  },
  {
   "cell_type": "code",
   "execution_count": 5,
   "metadata": {},
   "outputs": [],
   "source": [
    "df = pd.DataFrame(vals)"
   ]
  },
  {
   "cell_type": "code",
   "execution_count": 6,
   "metadata": {},
   "outputs": [
    {
     "data": {
      "text/html": [
       "<div>\n",
       "<style scoped>\n",
       "    .dataframe tbody tr th:only-of-type {\n",
       "        vertical-align: middle;\n",
       "    }\n",
       "\n",
       "    .dataframe tbody tr th {\n",
       "        vertical-align: top;\n",
       "    }\n",
       "\n",
       "    .dataframe thead th {\n",
       "        text-align: right;\n",
       "    }\n",
       "</style>\n",
       "<table border=\"1\" class=\"dataframe\">\n",
       "  <thead>\n",
       "    <tr style=\"text-align: right;\">\n",
       "      <th></th>\n",
       "      <th>Produto 1</th>\n",
       "      <th>Produto 2</th>\n",
       "      <th>Produto 3</th>\n",
       "      <th>Novo?</th>\n",
       "    </tr>\n",
       "  </thead>\n",
       "  <tbody>\n",
       "    <tr>\n",
       "      <th>0</th>\n",
       "      <td>1</td>\n",
       "      <td>0</td>\n",
       "      <td>0</td>\n",
       "      <td>Não</td>\n",
       "    </tr>\n",
       "    <tr>\n",
       "      <th>1</th>\n",
       "      <td>2</td>\n",
       "      <td>0</td>\n",
       "      <td>5</td>\n",
       "      <td>Sim</td>\n",
       "    </tr>\n",
       "    <tr>\n",
       "      <th>2</th>\n",
       "      <td>3</td>\n",
       "      <td>10</td>\n",
       "      <td>7</td>\n",
       "      <td>Sim</td>\n",
       "    </tr>\n",
       "    <tr>\n",
       "      <th>3</th>\n",
       "      <td>4</td>\n",
       "      <td>3</td>\n",
       "      <td>10</td>\n",
       "      <td>Não</td>\n",
       "    </tr>\n",
       "  </tbody>\n",
       "</table>\n",
       "</div>"
      ],
      "text/plain": [
       "   Produto 1  Produto 2  Produto 3 Novo?\n",
       "0          1          0          0   Não\n",
       "1          2          0          5   Sim\n",
       "2          3         10          7   Sim\n",
       "3          4          3         10   Não"
      ]
     },
     "execution_count": 6,
     "metadata": {},
     "output_type": "execute_result"
    }
   ],
   "source": [
    "df"
   ]
  },
  {
   "cell_type": "markdown",
   "metadata": {},
   "source": [
    "Os valores de um dicionário não precisam ter **apenas** listas."
   ]
  },
  {
   "cell_type": "code",
   "execution_count": 2,
   "metadata": {},
   "outputs": [],
   "source": [
    "teams = {'Ano': np.arange(1950,1955), 'Campeão': ['Time A','Time B','Time C','Time D', 'Time A'], 'Pontos': [80, 77, 65, 50, 29] }"
   ]
  },
  {
   "cell_type": "code",
   "execution_count": 3,
   "metadata": {},
   "outputs": [
    {
     "data": {
      "text/html": [
       "<div>\n",
       "<style scoped>\n",
       "    .dataframe tbody tr th:only-of-type {\n",
       "        vertical-align: middle;\n",
       "    }\n",
       "\n",
       "    .dataframe tbody tr th {\n",
       "        vertical-align: top;\n",
       "    }\n",
       "\n",
       "    .dataframe thead th {\n",
       "        text-align: right;\n",
       "    }\n",
       "</style>\n",
       "<table border=\"1\" class=\"dataframe\">\n",
       "  <thead>\n",
       "    <tr style=\"text-align: right;\">\n",
       "      <th></th>\n",
       "      <th>Ano</th>\n",
       "      <th>Campeão</th>\n",
       "      <th>Pontos</th>\n",
       "    </tr>\n",
       "  </thead>\n",
       "  <tbody>\n",
       "    <tr>\n",
       "      <th>0</th>\n",
       "      <td>1950</td>\n",
       "      <td>Time A</td>\n",
       "      <td>80</td>\n",
       "    </tr>\n",
       "    <tr>\n",
       "      <th>1</th>\n",
       "      <td>1951</td>\n",
       "      <td>Time B</td>\n",
       "      <td>77</td>\n",
       "    </tr>\n",
       "    <tr>\n",
       "      <th>2</th>\n",
       "      <td>1952</td>\n",
       "      <td>Time C</td>\n",
       "      <td>65</td>\n",
       "    </tr>\n",
       "    <tr>\n",
       "      <th>3</th>\n",
       "      <td>1953</td>\n",
       "      <td>Time D</td>\n",
       "      <td>50</td>\n",
       "    </tr>\n",
       "    <tr>\n",
       "      <th>4</th>\n",
       "      <td>1954</td>\n",
       "      <td>Time A</td>\n",
       "      <td>29</td>\n",
       "    </tr>\n",
       "  </tbody>\n",
       "</table>\n",
       "</div>"
      ],
      "text/plain": [
       "    Ano Campeão  Pontos\n",
       "0  1950  Time A      80\n",
       "1  1951  Time B      77\n",
       "2  1952  Time C      65\n",
       "3  1953  Time D      50\n",
       "4  1954  Time A      29"
      ]
     },
     "execution_count": 3,
     "metadata": {},
     "output_type": "execute_result"
    }
   ],
   "source": [
    "pd.DataFrame(teams)"
   ]
  },
  {
   "cell_type": "markdown",
   "metadata": {},
   "source": [
    "Usando `np.array`"
   ]
  },
  {
   "cell_type": "code",
   "execution_count": 11,
   "metadata": {},
   "outputs": [],
   "source": [
    "vals = np.random.random((4,10)) \n",
    "df = pd.DataFrame(data=vals)"
   ]
  },
  {
   "cell_type": "code",
   "execution_count": 12,
   "metadata": {},
   "outputs": [
    {
     "data": {
      "text/html": [
       "<div>\n",
       "<style scoped>\n",
       "    .dataframe tbody tr th:only-of-type {\n",
       "        vertical-align: middle;\n",
       "    }\n",
       "\n",
       "    .dataframe tbody tr th {\n",
       "        vertical-align: top;\n",
       "    }\n",
       "\n",
       "    .dataframe thead th {\n",
       "        text-align: right;\n",
       "    }\n",
       "</style>\n",
       "<table border=\"1\" class=\"dataframe\">\n",
       "  <thead>\n",
       "    <tr style=\"text-align: right;\">\n",
       "      <th></th>\n",
       "      <th>0</th>\n",
       "      <th>1</th>\n",
       "      <th>2</th>\n",
       "      <th>3</th>\n",
       "      <th>4</th>\n",
       "      <th>5</th>\n",
       "      <th>6</th>\n",
       "      <th>7</th>\n",
       "      <th>8</th>\n",
       "      <th>9</th>\n",
       "    </tr>\n",
       "  </thead>\n",
       "  <tbody>\n",
       "    <tr>\n",
       "      <th>0</th>\n",
       "      <td>0.731628</td>\n",
       "      <td>0.098113</td>\n",
       "      <td>0.703793</td>\n",
       "      <td>0.125316</td>\n",
       "      <td>0.394540</td>\n",
       "      <td>0.003129</td>\n",
       "      <td>0.044994</td>\n",
       "      <td>0.859073</td>\n",
       "      <td>0.484277</td>\n",
       "      <td>0.163656</td>\n",
       "    </tr>\n",
       "    <tr>\n",
       "      <th>1</th>\n",
       "      <td>0.263600</td>\n",
       "      <td>0.343844</td>\n",
       "      <td>0.629028</td>\n",
       "      <td>0.711266</td>\n",
       "      <td>0.160526</td>\n",
       "      <td>0.785226</td>\n",
       "      <td>0.661530</td>\n",
       "      <td>0.121663</td>\n",
       "      <td>0.454577</td>\n",
       "      <td>0.315903</td>\n",
       "    </tr>\n",
       "    <tr>\n",
       "      <th>2</th>\n",
       "      <td>0.943597</td>\n",
       "      <td>0.970926</td>\n",
       "      <td>0.117640</td>\n",
       "      <td>0.187099</td>\n",
       "      <td>0.386139</td>\n",
       "      <td>0.877292</td>\n",
       "      <td>0.555524</td>\n",
       "      <td>0.080773</td>\n",
       "      <td>0.881353</td>\n",
       "      <td>0.712416</td>\n",
       "    </tr>\n",
       "    <tr>\n",
       "      <th>3</th>\n",
       "      <td>0.959602</td>\n",
       "      <td>0.671664</td>\n",
       "      <td>0.881720</td>\n",
       "      <td>0.069193</td>\n",
       "      <td>0.548855</td>\n",
       "      <td>0.688047</td>\n",
       "      <td>0.095360</td>\n",
       "      <td>0.937553</td>\n",
       "      <td>0.676725</td>\n",
       "      <td>0.866636</td>\n",
       "    </tr>\n",
       "  </tbody>\n",
       "</table>\n",
       "</div>"
      ],
      "text/plain": [
       "          0         1         2         3         4         5         6  \\\n",
       "0  0.731628  0.098113  0.703793  0.125316  0.394540  0.003129  0.044994   \n",
       "1  0.263600  0.343844  0.629028  0.711266  0.160526  0.785226  0.661530   \n",
       "2  0.943597  0.970926  0.117640  0.187099  0.386139  0.877292  0.555524   \n",
       "3  0.959602  0.671664  0.881720  0.069193  0.548855  0.688047  0.095360   \n",
       "\n",
       "          7         8         9  \n",
       "0  0.859073  0.484277  0.163656  \n",
       "1  0.121663  0.454577  0.315903  \n",
       "2  0.080773  0.881353  0.712416  \n",
       "3  0.937553  0.676725  0.866636  "
      ]
     },
     "execution_count": 12,
     "metadata": {},
     "output_type": "execute_result"
    }
   ],
   "source": [
    "df"
   ]
  },
  {
   "cell_type": "markdown",
   "metadata": {},
   "source": [
    "Qual a diferença entre os dois métodos de criação? "
   ]
  },
  {
   "cell_type": "code",
   "execution_count": null,
   "metadata": {},
   "outputs": [],
   "source": []
  },
  {
   "cell_type": "markdown",
   "metadata": {},
   "source": [
    "Outros argumentos para a criação do `pd.DataFrame`:\n",
    "\n",
    "- `index`: Index para usar para o dataframe gerado.\n",
    "\n",
    "- `columns`: Nome das colunas para o dataframe, quando não tiver. \n",
    "\n",
    "- `dtype`: Tipo de dado esperado para **todos** os elementos do dataframe."
   ]
  },
  {
   "cell_type": "markdown",
   "metadata": {},
   "source": [
    "Exercício: como escrever nomes para colunas inserindo data como `np.array`?"
   ]
  },
  {
   "cell_type": "code",
   "execution_count": null,
   "metadata": {},
   "outputs": [],
   "source": []
  },
  {
   "cell_type": "code",
   "execution_count": null,
   "metadata": {},
   "outputs": [],
   "source": []
  },
  {
   "cell_type": "markdown",
   "metadata": {},
   "source": [
    "Nem sempre precisamos criar um `dataFrame`. Quando quisermos carregar uma tabela já existente, usaremos outros métodos:\n",
    "\n",
    "- `pd.read_csv` \n",
    "\n",
    "- `pd.read_table`"
   ]
  },
  {
   "cell_type": "markdown",
   "metadata": {},
   "source": [
    "Argumentos importantes no `read_csv` \n",
    "\n",
    "- filepath (**obrigatório**): string contendo o caminho para a tabela. \n",
    "\n",
    "- `sep`: delimitador usado para separação entre valores. Geralmente é utilizado quando o arquivo usa o separador `;` ao invés de `,`.\n",
    "\n",
    "- `header`: número de linhas utilizadas para o cabeçalho da tabela. Se a tabela **não** contém header, devemos usar `header = None`.\n",
    "\n",
    "- `names`: nome das colunas (deve ser feita de forma explícita caso não exista originalmente o header)."
   ]
  },
  {
   "cell_type": "markdown",
   "metadata": {},
   "source": []
  },
  {
   "cell_type": "markdown",
   "metadata": {},
   "source": [
    "## Acessando e manipulando informações de um `pd.DataFrame`"
   ]
  },
  {
   "cell_type": "markdown",
   "metadata": {},
   "source": [
    "Temos diferentes formas para acessar informações de um DataFrame. \n",
    "\n",
    "Neste primeiro momento, iremos falar apenas de uma forma **bem** básica. "
   ]
  },
  {
   "cell_type": "markdown",
   "metadata": {},
   "source": [
    "Podemos acessar pela propriedade (i.e. nome da coluna) da tabela. Isso pode ser feito de duas formas:\n",
    "\n",
    "- `df[column_name]` \n",
    "\n",
    "- `df.column_name`"
   ]
  },
  {
   "cell_type": "code",
   "execution_count": null,
   "metadata": {},
   "outputs": [],
   "source": []
  },
  {
   "cell_type": "markdown",
   "metadata": {},
   "source": [
    "E se eu quiser um valor dentro desta coluna? Acessamos mais um índice \n",
    "\n",
    "`df[column_name][i]`"
   ]
  },
  {
   "cell_type": "code",
   "execution_count": null,
   "metadata": {},
   "outputs": [],
   "source": []
  },
  {
   "cell_type": "markdown",
   "metadata": {},
   "source": [
    "E se quisermos mais de uma coluna? Daí passamos uma lista de nomes para retornar essa visualização. \n",
    "\n",
    "`df[list_of_columns]`"
   ]
  },
  {
   "cell_type": "code",
   "execution_count": 21,
   "metadata": {},
   "outputs": [
    {
     "data": {
      "text/html": [
       "<div>\n",
       "<style scoped>\n",
       "    .dataframe tbody tr th:only-of-type {\n",
       "        vertical-align: middle;\n",
       "    }\n",
       "\n",
       "    .dataframe tbody tr th {\n",
       "        vertical-align: top;\n",
       "    }\n",
       "\n",
       "    .dataframe thead th {\n",
       "        text-align: right;\n",
       "    }\n",
       "</style>\n",
       "<table border=\"1\" class=\"dataframe\">\n",
       "  <thead>\n",
       "    <tr style=\"text-align: right;\">\n",
       "      <th></th>\n",
       "      <th>0</th>\n",
       "      <th>1</th>\n",
       "    </tr>\n",
       "  </thead>\n",
       "  <tbody>\n",
       "    <tr>\n",
       "      <th>0</th>\n",
       "      <td>0.731628</td>\n",
       "      <td>0.098113</td>\n",
       "    </tr>\n",
       "    <tr>\n",
       "      <th>1</th>\n",
       "      <td>0.263600</td>\n",
       "      <td>0.343844</td>\n",
       "    </tr>\n",
       "    <tr>\n",
       "      <th>2</th>\n",
       "      <td>0.943597</td>\n",
       "      <td>0.970926</td>\n",
       "    </tr>\n",
       "    <tr>\n",
       "      <th>3</th>\n",
       "      <td>0.959602</td>\n",
       "      <td>0.671664</td>\n",
       "    </tr>\n",
       "  </tbody>\n",
       "</table>\n",
       "</div>"
      ],
      "text/plain": [
       "          0         1\n",
       "0  0.731628  0.098113\n",
       "1  0.263600  0.343844\n",
       "2  0.943597  0.970926\n",
       "3  0.959602  0.671664"
      ]
     },
     "execution_count": 21,
     "metadata": {},
     "output_type": "execute_result"
    }
   ],
   "source": [
    "list_of_columns = [0, 1]\n",
    "\n",
    "df[list_of_columns]"
   ]
  },
  {
   "cell_type": "markdown",
   "metadata": {},
   "source": [
    "E se quisermos **apenas** os valores após essa primeira \"filtragem\"? \n",
    "\n",
    "Podemos usar o `values`, que retorna um `np.array`."
   ]
  },
  {
   "cell_type": "markdown",
   "metadata": {},
   "source": [
    "### Adicionando novas informações"
   ]
  },
  {
   "cell_type": "markdown",
   "metadata": {},
   "source": [
    "Agora que sabemos criar (ou ler) uma tabela, resta saber como atualizamos o conteúdo da tabela. \n",
    "\n",
    "Isto é bem simples. Para isso, usamos o método `append`."
   ]
  },
  {
   "cell_type": "code",
   "execution_count": 1,
   "metadata": {},
   "outputs": [],
   "source": [
    "import pandas as pd "
   ]
  },
  {
   "cell_type": "code",
   "execution_count": 4,
   "metadata": {},
   "outputs": [
    {
     "name": "stderr",
     "output_type": "stream",
     "text": [
      "C:\\Users\\thiag\\AppData\\Local\\Temp\\ipykernel_6192\\3462847099.py:8: FutureWarning: The frame.append method is deprecated and will be removed from pandas in a future version. Use pandas.concat instead.\n",
      "  df1 = df1.append(df2)\n"
     ]
    },
    {
     "data": {
      "text/html": [
       "<div>\n",
       "<style scoped>\n",
       "    .dataframe tbody tr th:only-of-type {\n",
       "        vertical-align: middle;\n",
       "    }\n",
       "\n",
       "    .dataframe tbody tr th {\n",
       "        vertical-align: top;\n",
       "    }\n",
       "\n",
       "    .dataframe thead th {\n",
       "        text-align: right;\n",
       "    }\n",
       "</style>\n",
       "<table border=\"1\" class=\"dataframe\">\n",
       "  <thead>\n",
       "    <tr style=\"text-align: right;\">\n",
       "      <th></th>\n",
       "      <th>foo</th>\n",
       "      <th>bar</th>\n",
       "    </tr>\n",
       "  </thead>\n",
       "  <tbody>\n",
       "    <tr>\n",
       "      <th>0</th>\n",
       "      <td>1</td>\n",
       "      <td>5</td>\n",
       "    </tr>\n",
       "    <tr>\n",
       "      <th>1</th>\n",
       "      <td>2</td>\n",
       "      <td>6</td>\n",
       "    </tr>\n",
       "    <tr>\n",
       "      <th>2</th>\n",
       "      <td>3</td>\n",
       "      <td>7</td>\n",
       "    </tr>\n",
       "    <tr>\n",
       "      <th>3</th>\n",
       "      <td>4</td>\n",
       "      <td>8</td>\n",
       "    </tr>\n",
       "    <tr>\n",
       "      <th>0</th>\n",
       "      <td>1</td>\n",
       "      <td>5</td>\n",
       "    </tr>\n",
       "    <tr>\n",
       "      <th>1</th>\n",
       "      <td>2</td>\n",
       "      <td>6</td>\n",
       "    </tr>\n",
       "    <tr>\n",
       "      <th>2</th>\n",
       "      <td>3</td>\n",
       "      <td>7</td>\n",
       "    </tr>\n",
       "  </tbody>\n",
       "</table>\n",
       "</div>"
      ],
      "text/plain": [
       "   foo  bar\n",
       "0    1    5\n",
       "1    2    6\n",
       "2    3    7\n",
       "3    4    8\n",
       "0    1    5\n",
       "1    2    6\n",
       "2    3    7"
      ]
     },
     "execution_count": 4,
     "metadata": {},
     "output_type": "execute_result"
    }
   ],
   "source": [
    "#Exemplo \n",
    "df1 = pd.DataFrame({\"foo\":[1, 2, 3, 4],\n",
    "                    \"bar\":[5, 6, 7, 8]})\n",
    " \n",
    "df2 = pd.DataFrame({\"foo\":[1, 2, 3],\n",
    "                    \"bar\":[5, 6, 7]})\n",
    " \n",
    "df1 = df1.append(df2)\n",
    "df1"
   ]
  },
  {
   "cell_type": "code",
   "execution_count": null,
   "metadata": {},
   "outputs": [],
   "source": [
    "df2 = pd.DataFrame({\"foo\":[1, 2, 3],\n",
    "                    \"bar\":[5, 6, 7],\n",
    "                    \"c\":[1, 5, 4]})\n"
   ]
  },
  {
   "cell_type": "markdown",
   "metadata": {},
   "source": [
    "OBS: O método `append` não é mais recomendado pelo Pandas desde a versão 1.4. Ao invés disso, devemos usar o `merge` ou `concat`.\n",
    "\n",
    "Usamos o `merge` para unir duas tabelas. Para isso, precisamos saber **como** devemos unir esta tabela. O conceito é bem semelhante ao que geralmente é aprendido em SQL.\n",
    "\n",
    "\n",
    "![exemplo](https://miro.medium.com/max/720/1*0FDsAB9OelxojfmtkcLbgw.png)"
   ]
  },
  {
   "cell_type": "code",
   "execution_count": 11,
   "metadata": {},
   "outputs": [],
   "source": [
    "#Exemplo \n",
    "\n",
    "tabela_1 = pd.DataFrame({\n",
    "'Nome':['João', 'João', 'Pedro' , 'Caio'], \n",
    "'Matéria': ['CS113', 'CS115', 'CS113', 'DS300'], \n",
    "'Grupo': ['azul', 'preto', 'verde' , 'amarelo']})"
   ]
  },
  {
   "cell_type": "code",
   "execution_count": 15,
   "metadata": {},
   "outputs": [],
   "source": [
    "tabela_2 = pd.DataFrame({\n",
    "'Nome':['João', 'Thiago', 'Pedro' , 'Gabriel'], \n",
    "'Matérias': [5, 10, 7, 12]})"
   ]
  },
  {
   "cell_type": "code",
   "execution_count": 16,
   "metadata": {},
   "outputs": [
    {
     "data": {
      "text/html": [
       "<div>\n",
       "<style scoped>\n",
       "    .dataframe tbody tr th:only-of-type {\n",
       "        vertical-align: middle;\n",
       "    }\n",
       "\n",
       "    .dataframe tbody tr th {\n",
       "        vertical-align: top;\n",
       "    }\n",
       "\n",
       "    .dataframe thead th {\n",
       "        text-align: right;\n",
       "    }\n",
       "</style>\n",
       "<table border=\"1\" class=\"dataframe\">\n",
       "  <thead>\n",
       "    <tr style=\"text-align: right;\">\n",
       "      <th></th>\n",
       "      <th>Nome</th>\n",
       "      <th>Matéria</th>\n",
       "      <th>Grupo</th>\n",
       "      <th>Matérias</th>\n",
       "    </tr>\n",
       "  </thead>\n",
       "  <tbody>\n",
       "    <tr>\n",
       "      <th>0</th>\n",
       "      <td>João</td>\n",
       "      <td>CS113</td>\n",
       "      <td>azul</td>\n",
       "      <td>5</td>\n",
       "    </tr>\n",
       "    <tr>\n",
       "      <th>1</th>\n",
       "      <td>João</td>\n",
       "      <td>CS115</td>\n",
       "      <td>preto</td>\n",
       "      <td>5</td>\n",
       "    </tr>\n",
       "    <tr>\n",
       "      <th>2</th>\n",
       "      <td>Pedro</td>\n",
       "      <td>CS113</td>\n",
       "      <td>verde</td>\n",
       "      <td>7</td>\n",
       "    </tr>\n",
       "  </tbody>\n",
       "</table>\n",
       "</div>"
      ],
      "text/plain": [
       "    Nome Matéria  Grupo  Matérias\n",
       "0   João   CS113   azul         5\n",
       "1   João   CS115  preto         5\n",
       "2  Pedro   CS113  verde         7"
      ]
     },
     "execution_count": 16,
     "metadata": {},
     "output_type": "execute_result"
    }
   ],
   "source": [
    "pd.merge(tabela_1, tabela_2, how = 'inner', on = 'Nome')"
   ]
  },
  {
   "cell_type": "code",
   "execution_count": 18,
   "metadata": {},
   "outputs": [],
   "source": [
    "#Usando o mesmo nome da coluna. \n",
    "tabela_2 = pd.DataFrame({\n",
    "'Nome':['João', 'Thiago', 'Pedro' , 'Gabriel'], \n",
    "'Grupo': ['preto','vermelho','verde','amarelo'],\n",
    "'Matérias': [5, 10, 7, 12]})"
   ]
  },
  {
   "cell_type": "code",
   "execution_count": null,
   "metadata": {},
   "outputs": [],
   "source": [
    "pd.merge(tabela_1, tabela_2, how = 'inner', on = 'Nome')"
   ]
  },
  {
   "cell_type": "code",
   "execution_count": 19,
   "metadata": {},
   "outputs": [
    {
     "data": {
      "text/html": [
       "<div>\n",
       "<style scoped>\n",
       "    .dataframe tbody tr th:only-of-type {\n",
       "        vertical-align: middle;\n",
       "    }\n",
       "\n",
       "    .dataframe tbody tr th {\n",
       "        vertical-align: top;\n",
       "    }\n",
       "\n",
       "    .dataframe thead th {\n",
       "        text-align: right;\n",
       "    }\n",
       "</style>\n",
       "<table border=\"1\" class=\"dataframe\">\n",
       "  <thead>\n",
       "    <tr style=\"text-align: right;\">\n",
       "      <th></th>\n",
       "      <th>Nome</th>\n",
       "      <th>Matéria</th>\n",
       "      <th>Grupo</th>\n",
       "      <th>Matérias</th>\n",
       "    </tr>\n",
       "  </thead>\n",
       "  <tbody>\n",
       "    <tr>\n",
       "      <th>0</th>\n",
       "      <td>João</td>\n",
       "      <td>CS115</td>\n",
       "      <td>preto</td>\n",
       "      <td>5</td>\n",
       "    </tr>\n",
       "    <tr>\n",
       "      <th>1</th>\n",
       "      <td>Pedro</td>\n",
       "      <td>CS113</td>\n",
       "      <td>verde</td>\n",
       "      <td>7</td>\n",
       "    </tr>\n",
       "  </tbody>\n",
       "</table>\n",
       "</div>"
      ],
      "text/plain": [
       "    Nome Matéria  Grupo  Matérias\n",
       "0   João   CS115  preto         5\n",
       "1  Pedro   CS113  verde         7"
      ]
     },
     "execution_count": 19,
     "metadata": {},
     "output_type": "execute_result"
    }
   ],
   "source": [
    "pd.merge(tabela_1, tabela_2, how='inner', on=['Nome','Grupo'])"
   ]
  },
  {
   "cell_type": "code",
   "execution_count": null,
   "metadata": {},
   "outputs": [],
   "source": []
  },
  {
   "cell_type": "markdown",
   "metadata": {},
   "source": [
    "## Exercícios"
   ]
  },
  {
   "cell_type": "markdown",
   "metadata": {},
   "source": [
    "1. Neste primeiro exercício, você trabalhará com o armazenamento e atualização de tabelas, com dados fornecidos por um API. Selecione uma tarefa para aquisição de dados por meio de um API (existe uma lista com Free API sem o uso de key, https://apipheny.io/free-api/). Crie um sistema que obtenha as informações de API e armazene em uma tabela. Este sistema deve ser capaz de adicionar novas informações ao realizar futuras requisições na API. Crie também uma função que armazene **apenas** se a informação for válida. \n",
    "\n",
    "Em seguida, faça alguma análise que seja pertinente ao problema escolhido. \n",
    "\n",
    "OBS: **Não** use o API Jokes neste exercício."
   ]
  },
  {
   "cell_type": "markdown",
   "metadata": {},
   "source": []
  },
  {
   "cell_type": "markdown",
   "metadata": {},
   "source": [
    "2. Considere agora o API Jokes (https://official-joke-api.appspot.com/random_joke). Adapte o sistema criado no exercício anterior para o uso desta aplicação. Considere que apenas entradas únicas devem ser armazenadas na tabela. Caso o registro seja repetido, sinalize a repetição, ID e o resto de seu conteúdo. "
   ]
  },
  {
   "cell_type": "markdown",
   "metadata": {},
   "source": []
  }
 ],
 "metadata": {
  "kernelspec": {
   "display_name": "Python 3.10.4 64-bit",
   "language": "python",
   "name": "python3"
  },
  "language_info": {
   "codemirror_mode": {
    "name": "ipython",
    "version": 3
   },
   "file_extension": ".py",
   "mimetype": "text/x-python",
   "name": "python",
   "nbconvert_exporter": "python",
   "pygments_lexer": "ipython3",
   "version": "3.10.4"
  },
  "orig_nbformat": 4,
  "vscode": {
   "interpreter": {
    "hash": "d044c6e0ce06759120adefce77398d00e1228e64d92f3f185fbd024a7701b8e0"
   }
  }
 },
 "nbformat": 4,
 "nbformat_minor": 2
}
