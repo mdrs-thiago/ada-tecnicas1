{
 "cells": [
  {
   "cell_type": "markdown",
   "metadata": {},
   "source": [
    "# Introdução - Pandas"
   ]
  },
  {
   "cell_type": "markdown",
   "metadata": {},
   "source": [
    "## Primeiro... por que pandas?"
   ]
  },
  {
   "cell_type": "markdown",
   "metadata": {},
   "source": [
    "No dia-a-dia, mexemos com diferentes planilhas contendo um alto volume de dados. \n",
    "Quais são as ferramentas que geralmente são usadas para essas tarefas?"
   ]
  },
  {
   "cell_type": "code",
   "execution_count": null,
   "metadata": {},
   "outputs": [],
   "source": []
  },
  {
   "cell_type": "code",
   "execution_count": null,
   "metadata": {},
   "outputs": [],
   "source": [
    "import requests "
   ]
  },
  {
   "cell_type": "code",
   "execution_count": null,
   "metadata": {},
   "outputs": [],
   "source": [
    "res = requests.get('https://api.publicapis.org/entries')"
   ]
  },
  {
   "cell_type": "code",
   "execution_count": null,
   "metadata": {},
   "outputs": [],
   "source": [
    "res_json = res.json()"
   ]
  },
  {
   "cell_type": "code",
   "execution_count": null,
   "metadata": {},
   "outputs": [],
   "source": [
    "res_json"
   ]
  },
  {
   "cell_type": "code",
   "execution_count": null,
   "metadata": {},
   "outputs": [],
   "source": []
  },
  {
   "cell_type": "markdown",
   "metadata": {},
   "source": [
    "Agora imagine que você queira carregar essa base de dados em Python para fazer transformações nos dados, pré-processamento ou qualquer outra análise. Com o conhecimento adquirido até agora, como podemos fazer a leitura deste arquivo?"
   ]
  },
  {
   "cell_type": "code",
   "execution_count": null,
   "metadata": {},
   "outputs": [],
   "source": []
  },
  {
   "cell_type": "markdown",
   "metadata": {},
   "source": [
    "Nesta aula, aprenderemos a carregar e manipular uma base de dados usando a biblioteca `pandas`. O Pandas (derivado de panel data) é uma biblioteca para Python muito versátil e simples de se utilizar para trabalhar com dados em tabelas (i.e. dados tabulares, ou estruturados).\n",
    "\n",
    "! Qual é a diferença entre dados estruturados e não-estruturados?"
   ]
  },
  {
   "cell_type": "code",
   "execution_count": null,
   "metadata": {},
   "outputs": [],
   "source": []
  },
  {
   "cell_type": "markdown",
   "metadata": {},
   "source": [
    "Existem duas estruturas básicas para `pandas`:\n",
    "\n",
    "- `pandas.DataFrame`\n",
    "\n",
    "- `pandas.Series`\n",
    "\n",
    "Nesta aula, falaremos sobre o funcionamento do DataFrame. É importante notar que `pandas` foi desenvolvido em cima da biblioteca `numpy` e, portanto, a maioria das manipulações numéricas destes dados tabulares são feitas com o auxílio de `np.array` e seus métodos. "
   ]
  },
  {
   "cell_type": "markdown",
   "metadata": {},
   "source": []
  },
  {
   "attachments": {},
   "cell_type": "markdown",
   "metadata": {},
   "source": [
    "## O que é `pandas.DataFrame`"
   ]
  },
  {
   "cell_type": "markdown",
   "metadata": {},
   "source": [
    "`pandas.DataFrame` é uma estrutura em `pandas` para acomodação de tabelas (i.e. linhas e colunas). \n",
    "\n",
    "Usamos o `pd.DataFrame()` para criar a nossa base de dados. "
   ]
  },
  {
   "cell_type": "code",
   "execution_count": null,
   "metadata": {},
   "outputs": [],
   "source": [
    "import pandas as pd \n",
    "import numpy as np "
   ]
  },
  {
   "cell_type": "markdown",
   "metadata": {},
   "source": [
    "Temos algumas formas para a criação usando `pd.DataFrame`:\n",
    "\n",
    "- `dict` usando a chave como o *header* da coluna e uma lista como valores para o tal atributo. \n",
    "\n",
    "- `np.array` \n",
    "\n",
    "- `pd.DataFrame`\n",
    "\n",
    "- Outros iteráveis. "
   ]
  },
  {
   "attachments": {},
   "cell_type": "markdown",
   "metadata": {},
   "source": [
    "### Quick recap \n",
    "\n",
    "Como funciona um dicionário? "
   ]
  },
  {
   "cell_type": "code",
   "execution_count": null,
   "metadata": {},
   "outputs": [],
   "source": []
  },
  {
   "attachments": {},
   "cell_type": "markdown",
   "metadata": {},
   "source": [
    "OBS: usamos uma estrutura basicamente desse tipo quando estamos tratando de requisições usando JSON (comumente usado em API call, por exemplo)"
   ]
  },
  {
   "attachments": {},
   "cell_type": "markdown",
   "metadata": {},
   "source": [
    "### Voltando para a criação de um `pandas.DataFrame`"
   ]
  },
  {
   "attachments": {},
   "cell_type": "markdown",
   "metadata": {},
   "source": [
    "#### Usando dicionário"
   ]
  },
  {
   "cell_type": "code",
   "execution_count": null,
   "metadata": {},
   "outputs": [],
   "source": [
    "vals = {'Produto 1':[1,2,3,4], 'Produto 2': [0, 0, 10, 3], 'Produto 3': [0, 5, 7, 10], 'Novo?': ['Não','Sim','Sim','Não']}"
   ]
  },
  {
   "cell_type": "code",
   "execution_count": null,
   "metadata": {},
   "outputs": [],
   "source": [
    "df = pd.DataFrame(vals)"
   ]
  },
  {
   "cell_type": "code",
   "execution_count": null,
   "metadata": {},
   "outputs": [],
   "source": [
    "df"
   ]
  },
  {
   "cell_type": "markdown",
   "metadata": {},
   "source": [
    "Os valores de um dicionário não precisam ter **apenas** listas."
   ]
  },
  {
   "cell_type": "code",
   "execution_count": null,
   "metadata": {},
   "outputs": [],
   "source": [
    "teams = {'Ano': np.arange(1950,1955), 'Campeão': ['Time A','Time B','Time C','Time D', 'Time A'], 'Pontos': [80, 77, 65, 50, 29] }"
   ]
  },
  {
   "cell_type": "code",
   "execution_count": null,
   "metadata": {},
   "outputs": [],
   "source": [
    "pd.DataFrame(teams)"
   ]
  },
  {
   "attachments": {},
   "cell_type": "markdown",
   "metadata": {},
   "source": [
    "#### Usando `np.array`"
   ]
  },
  {
   "cell_type": "code",
   "execution_count": null,
   "metadata": {},
   "outputs": [],
   "source": [
    "vals = np.random.random((4,10)) \n",
    "df = pd.DataFrame(data=vals)"
   ]
  },
  {
   "cell_type": "code",
   "execution_count": null,
   "metadata": {},
   "outputs": [],
   "source": [
    "df"
   ]
  },
  {
   "cell_type": "markdown",
   "metadata": {},
   "source": [
    "Qual a diferença entre os dois métodos de criação? "
   ]
  },
  {
   "cell_type": "code",
   "execution_count": null,
   "metadata": {},
   "outputs": [],
   "source": []
  },
  {
   "cell_type": "markdown",
   "metadata": {},
   "source": [
    "Outros argumentos para a criação do `pd.DataFrame`:\n",
    "\n",
    "- `index`: Index para usar para o dataframe gerado.\n",
    "\n",
    "- `columns`: Nome das colunas para o dataframe, quando não tiver. \n",
    "\n",
    "- `dtype`: Tipo de dado esperado para **todos** os elementos do dataframe."
   ]
  },
  {
   "cell_type": "markdown",
   "metadata": {},
   "source": [
    "Exercício: como escrever nomes para colunas inserindo data como `np.array`?"
   ]
  },
  {
   "cell_type": "code",
   "execution_count": null,
   "metadata": {},
   "outputs": [],
   "source": []
  },
  {
   "cell_type": "code",
   "execution_count": null,
   "metadata": {},
   "outputs": [],
   "source": []
  },
  {
   "cell_type": "markdown",
   "metadata": {},
   "source": [
    "Nem sempre precisamos criar um `dataFrame`. Quando quisermos carregar uma tabela já existente, usaremos outros métodos:\n",
    "\n",
    "- `pd.read_csv` \n",
    "\n",
    "- `pd.read_table`"
   ]
  },
  {
   "cell_type": "markdown",
   "metadata": {},
   "source": [
    "Argumentos importantes no `read_csv` \n",
    "\n",
    "- filepath (**obrigatório**): string contendo o caminho para a tabela. \n",
    "\n",
    "- `sep`: delimitador usado para separação entre valores. Geralmente é utilizado quando o arquivo usa o separador `;` ao invés de `,`.\n",
    "\n",
    "- `header`: número de linhas utilizadas para o cabeçalho da tabela. Se a tabela **não** contém header, devemos usar `header = None`.\n",
    "\n",
    "- `names`: nome das colunas (deve ser feita de forma explícita caso não exista originalmente o header)."
   ]
  },
  {
   "cell_type": "markdown",
   "metadata": {},
   "source": []
  },
  {
   "cell_type": "markdown",
   "metadata": {},
   "source": [
    "## Acessando e manipulando informações de um `pd.DataFrame`"
   ]
  },
  {
   "cell_type": "markdown",
   "metadata": {},
   "source": [
    "Temos diferentes formas para acessar informações de um DataFrame. \n",
    "\n",
    "Neste primeiro momento, iremos falar apenas de uma forma **bem** básica. "
   ]
  },
  {
   "cell_type": "markdown",
   "metadata": {},
   "source": [
    "Podemos acessar pela propriedade (i.e. nome da coluna) da tabela. Isso pode ser feito de duas formas:\n",
    "\n",
    "- `df[column_name]` \n",
    "\n",
    "- `df.column_name`"
   ]
  },
  {
   "cell_type": "code",
   "execution_count": null,
   "metadata": {},
   "outputs": [],
   "source": []
  },
  {
   "cell_type": "markdown",
   "metadata": {},
   "source": [
    "E se eu quiser um valor dentro desta coluna? Acessamos mais um índice \n",
    "\n",
    "`df[column_name][i]`"
   ]
  },
  {
   "cell_type": "code",
   "execution_count": null,
   "metadata": {},
   "outputs": [],
   "source": []
  },
  {
   "cell_type": "markdown",
   "metadata": {},
   "source": [
    "E se quisermos mais de uma coluna? Daí passamos uma lista de nomes para retornar essa visualização. \n",
    "\n",
    "`df[list_of_columns]`"
   ]
  },
  {
   "cell_type": "code",
   "execution_count": null,
   "metadata": {},
   "outputs": [],
   "source": [
    "list_of_columns = [0, 1]\n",
    "\n",
    "df[list_of_columns]"
   ]
  },
  {
   "cell_type": "markdown",
   "metadata": {},
   "source": [
    "E se quisermos **apenas** os valores após essa primeira \"filtragem\"? \n",
    "\n",
    "Podemos usar o `values`, que retorna um `np.array`."
   ]
  },
  {
   "cell_type": "markdown",
   "metadata": {},
   "source": [
    "### Adicionando novas informações"
   ]
  },
  {
   "cell_type": "markdown",
   "metadata": {},
   "source": [
    "Agora que sabemos criar (ou ler) uma tabela, resta saber como atualizamos o conteúdo da tabela. \n",
    "\n",
    "Isto é bem simples. Para isso, usamos o método `append`."
   ]
  },
  {
   "cell_type": "code",
   "execution_count": null,
   "metadata": {},
   "outputs": [],
   "source": [
    "import pandas as pd "
   ]
  },
  {
   "cell_type": "code",
   "execution_count": null,
   "metadata": {},
   "outputs": [],
   "source": [
    "#Exemplo \n",
    "df1 = pd.DataFrame({\"foo\":[1, 2, 3, 4],\n",
    "                    \"bar\":[5, 6, 7, 8]})\n",
    " \n",
    "df2 = pd.DataFrame({\"foo\":[1, 2, 3],\n",
    "                    \"bar\":[5, 6, 7]})\n",
    " \n",
    "df1 = df1.append(df2)\n",
    "df1"
   ]
  },
  {
   "cell_type": "code",
   "execution_count": null,
   "metadata": {},
   "outputs": [],
   "source": [
    "df2 = pd.DataFrame({\"foo\":[1, 2, 3],\n",
    "                    \"bar\":[5, 6, 7],\n",
    "                    \"c\":[1, 5, 4]})\n"
   ]
  },
  {
   "cell_type": "markdown",
   "metadata": {},
   "source": [
    "OBS: O método `append` não é mais recomendado pelo Pandas desde a versão 1.4. Ao invés disso, devemos usar o `merge` ou `concat`.\n",
    "\n",
    "Usamos o `merge` para unir duas tabelas. Para isso, precisamos saber **como** devemos unir esta tabela. O conceito é bem semelhante ao que geralmente é aprendido em SQL.\n",
    "\n",
    "\n",
    "![exemplo](https://miro.medium.com/max/720/1*0FDsAB9OelxojfmtkcLbgw.png)"
   ]
  },
  {
   "cell_type": "code",
   "execution_count": null,
   "metadata": {},
   "outputs": [],
   "source": [
    "#Exemplo \n",
    "\n",
    "tabela_1 = pd.DataFrame({\n",
    "'Nome':['João', 'João', 'Pedro' , 'Caio'], \n",
    "'Matéria': ['CS113', 'CS115', 'CS113', 'DS300'], \n",
    "'Grupo': ['azul', 'preto', 'verde' , 'amarelo']})"
   ]
  },
  {
   "cell_type": "code",
   "execution_count": null,
   "metadata": {},
   "outputs": [],
   "source": [
    "tabela_2 = pd.DataFrame({\n",
    "'Nome':['João', 'Thiago', 'Pedro' , 'Gabriel'], \n",
    "'Matérias': [5, 10, 7, 12]})"
   ]
  },
  {
   "cell_type": "code",
   "execution_count": null,
   "metadata": {},
   "outputs": [],
   "source": [
    "pd.merge(tabela_1, tabela_2, how = 'inner', on = 'Nome')"
   ]
  },
  {
   "cell_type": "code",
   "execution_count": null,
   "metadata": {},
   "outputs": [],
   "source": [
    "#Usando o mesmo nome da coluna. \n",
    "tabela_2 = pd.DataFrame({\n",
    "'Nome':['João', 'Thiago', 'Pedro' , 'Gabriel'], \n",
    "'Grupo': ['preto','vermelho','verde','amarelo'],\n",
    "'Matérias': [5, 10, 7, 12]})"
   ]
  },
  {
   "cell_type": "code",
   "execution_count": null,
   "metadata": {},
   "outputs": [],
   "source": [
    "pd.merge(tabela_1, tabela_2, how = 'inner', on = 'Nome')"
   ]
  },
  {
   "cell_type": "code",
   "execution_count": null,
   "metadata": {},
   "outputs": [],
   "source": [
    "pd.merge(tabela_1, tabela_2, how='inner', on=['Nome','Grupo'])"
   ]
  },
  {
   "cell_type": "code",
   "execution_count": null,
   "metadata": {},
   "outputs": [],
   "source": []
  },
  {
   "attachments": {},
   "cell_type": "markdown",
   "metadata": {},
   "source": [
    "**OBS: Veremos isso também ao longo das próximas aulas, então não se preocupe agora :)** "
   ]
  },
  {
   "cell_type": "markdown",
   "metadata": {},
   "source": [
    "## Exercícios"
   ]
  },
  {
   "attachments": {},
   "cell_type": "markdown",
   "metadata": {},
   "source": [
    "1. Neste primeiro exercício, você trabalhará com o armazenamento e atualização de tabelas, com dados fornecidos por um API. Selecione uma tarefa para aquisição de dados por meio de um API (existe uma lista com Free API sem o uso de key, https://apipheny.io/free-api/). Crie um sistema que obtenha as informações de API e armazene em uma tabela. Este sistema deve ser capaz de adicionar novas informações ao realizar futuras requisições na API. Crie também uma função que armazene **apenas** se a informação for válida. \n",
    "\n",
    "\n",
    "Exemplos de API:\n",
    "\n",
    "- https://www.mercadobitcoin.com.br/api-doc/ \n",
    "\n",
    "- https://docs.awesomeapi.com.br/api-de-moedas\n",
    "\n",
    "- https://www.boredapi.com\n",
    "\n",
    "- https://datausa.io/about/api/"
   ]
  },
  {
   "cell_type": "code",
   "execution_count": null,
   "metadata": {},
   "outputs": [],
   "source": []
  },
  {
   "cell_type": "markdown",
   "metadata": {},
   "source": []
  },
  {
   "cell_type": "markdown",
   "metadata": {},
   "source": [
    "2. Considere agora o API Jokes (https://official-joke-api.appspot.com/random_joke). Adapte o sistema criado no exercício anterior para o uso desta aplicação. Considere que apenas entradas únicas devem ser armazenadas na tabela. Caso o registro seja repetido, sinalize a repetição, ID e o resto de seu conteúdo. "
   ]
  },
  {
   "cell_type": "markdown",
   "metadata": {},
   "source": []
  }
 ],
 "metadata": {
  "kernelspec": {
   "display_name": "Python 3",
   "language": "python",
   "name": "python3"
  },
  "language_info": {
   "codemirror_mode": {
    "name": "ipython",
    "version": 3
   },
   "file_extension": ".py",
   "mimetype": "text/x-python",
   "name": "python",
   "nbconvert_exporter": "python",
   "pygments_lexer": "ipython3",
   "version": "3.8.2"
  },
  "orig_nbformat": 4,
  "vscode": {
   "interpreter": {
    "hash": "9650cb4e16cdd4a8e8e2d128bf38d875813998db22a3c986335f89e0cb4d7bb2"
   }
  }
 },
 "nbformat": 4,
 "nbformat_minor": 2
}
