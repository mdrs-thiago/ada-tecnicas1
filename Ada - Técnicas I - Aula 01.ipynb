{
  "cells": [
    {
      "cell_type": "markdown",
      "metadata": {
        "id": "mgYcYSZwEAmP"
      },
      "source": [
        "# Ada - Data Journey \n",
        "\n",
        "Neste módulo, você será capaz de trabalhar em problemas básicos na área de dados utilizando `Numpy` e `Pandas`. \n",
        "\n",
        "Professor da disciplina: Thiago Medeiros."
      ]
    },
    {
      "cell_type": "markdown",
      "metadata": {
        "id": "2WND1vXjEAmU"
      },
      "source": [
        "Algumas diretrizes importantes:\n",
        "\n",
        "- As aulas já estão disponíveis na pasta, mas podem sofrer alterações eventuais. Você pode acessar todas as aulas, mas esteja ciente que o notebook da aula no dia pode ter uma pequena modificação. \n",
        "\n",
        "- Para as primeiras aulas, teremos exercícios de fixação, exercícios **e** desafios, para as pessoas que quiserem continuar exercitando após a aula.\n",
        "\n",
        "- Os exercícios serão resolvidos em grupos.\n",
        "\n",
        "- A avaliação (qualitativa, basicamente) terá como base: participação em sala de aula, **participação nos grupos de exercícios**, alguns checkpoints pontuais e o **projeto final** do módulo, que será apresentado na quarta aula. "
      ]
    },
    {
      "cell_type": "markdown",
      "metadata": {
        "id": "3sytJKRwEAmV"
      },
      "source": [
        "Antes de tratarmos sobre o assunto deste módulo, vamos sanar potenciais dúvidas (e dívidas) do módulo anterior. "
      ]
    },
    {
      "cell_type": "code",
      "execution_count": null,
      "metadata": {
        "id": "wLgy_2mGEAmV"
      },
      "outputs": [],
      "source": []
    },
    {
      "cell_type": "code",
      "execution_count": null,
      "metadata": {
        "id": "5vT5pIpDEAmW"
      },
      "outputs": [],
      "source": []
    },
    {
      "cell_type": "code",
      "source": [],
      "metadata": {
        "id": "ZeeqA68FMp03"
      },
      "execution_count": null,
      "outputs": []
    },
    {
      "cell_type": "code",
      "source": [],
      "metadata": {
        "id": "dG4Pn7B-MjWb"
      },
      "execution_count": null,
      "outputs": []
    },
    {
      "cell_type": "markdown",
      "metadata": {
        "id": "2ghLvVEbEAmW"
      },
      "source": [
        "Problema básico do dia: Como podemos manipular informações numéricas em Python?"
      ]
    },
    {
      "cell_type": "markdown",
      "metadata": {
        "id": "mBxkqDGiEAmX"
      },
      "source": [
        "Suponha que a gente tenha em mãos o histórico de uma informação muito importante, como o valor da taxa de câmbio de uma moeda. Até o presente momento, que tipo de variavel teríamos que usar para armazenar e fazer as análises dos valores históricos?"
      ]
    },
    {
      "cell_type": "markdown",
      "metadata": {
        "id": "SRK1rGzHEAmX"
      },
      "source": [
        "Quão difícil isso pode ser? \n",
        "\n",
        "Tente fazer as seguintes operações: \n",
        "- O valor médio dos valores históricos.\n",
        "- A variância dos valores históricos.\n",
        "- A diferença da série (i.e. y(t) - y(t-1))"
      ]
    },
    {
      "cell_type": "code",
      "execution_count": null,
      "metadata": {
        "id": "-4ndSRWZEAmY"
      },
      "outputs": [],
      "source": [
        "vals = [1584, 1656.5, 1629.8, 1712, 1647, 1736,\n",
        "       1681, 1757, 1689, 1730, 1697, 1809, 1789, 1840,\n",
        "       1867, 1930, 1865, 1885, 1914, 1932, 1894, 1891,\n",
        "       1965, 1946, 1939, 2061, 1962, 2296, 2029, 2080,\n",
        "       1974, 2083, 1949, 2007, 2090, 2081, 2117, 2149,\n",
        "       2105, 2326, 2050, 2140, 2342, 2163, 2207, 2239,\n",
        "       2236, 2343, 2290, 2380, 2350, 2538, 2416, 2397,\n",
        "       2564, 2407, 2562, 2407, 2403, 2592, 2507, 2501,\n",
        "       2448, 2619, 2626, 2694, 2476, 2548, 2540, 2486,\n",
        "       2523, 2638, 2485, 2733, 2555, 2753, 2654, 2643,\n",
        "       2797, 2692, 2655, 2518, 2710, 2767, 2741, 2907,\n",
        "       2787, 3018, 2936, 2711, 2870, 2985, 2945, 2884,\n",
        "       3038, 3028, 3053, 3197, 3082, 3430, 3157, 3274,\n",
        "       3113, 3225, 3020, 3104, 3217, 3174, 3207, 3241,\n",
        "       3181, 3581, 3345, 3301, 3550, 3258, 3320, 3291,\n",
        "       3171, 3501, 3443, 3367, 3408, 3528, 3636, 3476,\n",
        "       3717, 3555, 3547, 3609, 3530, 3844, 3704, 3808,\n",
        "       3701, 4090, 3865, 3954, 4107, 3917, 3934, 3713,\n",
        "       3871, 4103, 4125, 4290, 3982, 4425, 4240, 4059,\n",
        "       4204, 4256, 4268, 4050, 4291, 4276, 4272, 4440]"
      ]
    },
    {
      "cell_type": "code",
      "source": [
        "# Solução Diulio\n",
        "soma = 0\n",
        "for i in range(len(vals)):\n",
        "  soma += vals[i]\n",
        "\n",
        "media = soma/len(vals)\n",
        "\n",
        "# Solução Lucas \n",
        "soma = sum(vals)\n",
        "media = soma/len(vals)"
      ],
      "metadata": {
        "id": "-EselOqMPF-F"
      },
      "execution_count": null,
      "outputs": []
    },
    {
      "cell_type": "code",
      "source": [
        "# Infelizmente não funciona :(\n",
        "media = mean(vals)"
      ],
      "metadata": {
        "id": "BuIhu-PWP5BG"
      },
      "execution_count": null,
      "outputs": []
    },
    {
      "cell_type": "code",
      "source": [
        "# Variância (std²) = [soma(x - media)^2]/n"
      ],
      "metadata": {
        "id": "j4uxxii9P408"
      },
      "execution_count": null,
      "outputs": []
    },
    {
      "cell_type": "code",
      "source": [
        "# A variância é um pouco mais chatinho...\n",
        "soma = 0\n",
        "\n",
        "for i in vals:\n",
        "  soma += (i - media)**2\n",
        "\n",
        "variancia = soma/len(vals)"
      ],
      "metadata": {
        "id": "yu0uqeVzRNvH"
      },
      "execution_count": null,
      "outputs": []
    },
    {
      "cell_type": "code",
      "execution_count": null,
      "metadata": {
        "id": "4OysHaf-EAmZ"
      },
      "outputs": [],
      "source": []
    },
    {
      "cell_type": "markdown",
      "metadata": {
        "id": "EPfrVBAAEAmZ"
      },
      "source": [
        "O NumPy (abreviação para Numerical Python) é uma poderosa biblioteca matemática para Python, sendo um dos cernes da computação científica em Python. A biblioteca realiza cálculos em cima de Arrays Multidimensionais (equivalente a vetores, matrizes e tensores na matemática), ou seja, listas de listas de listas de..., de forma eficiente, o que nos dá muita velocidade.\n",
        "\n",
        "Esta biblioteca está presente na maioria dos pacotes tradicionais que fazem uso de cálculo numérico, como `scikit-learn`. "
      ]
    },
    {
      "cell_type": "code",
      "execution_count": 2,
      "metadata": {
        "id": "bBs2W1ebEAma"
      },
      "outputs": [],
      "source": [
        "import numpy as np"
      ]
    },
    {
      "cell_type": "markdown",
      "metadata": {
        "id": "A0v7cbv1EAma"
      },
      "source": [
        "## O que o Numpy é capaz de fazer?"
      ]
    },
    {
      "cell_type": "markdown",
      "metadata": {
        "id": "PvXHSHFnEAmb"
      },
      "source": [
        "Como declarar um numpy array? "
      ]
    },
    {
      "cell_type": "code",
      "execution_count": 3,
      "metadata": {
        "id": "cXtO7ug_EAmb"
      },
      "outputs": [],
      "source": [
        "# É bem simples!\n",
        "lista = [1, 2.3, 3]\n",
        "np_lista = np.array(lista)"
      ]
    },
    {
      "cell_type": "code",
      "execution_count": 4,
      "metadata": {
        "colab": {
          "base_uri": "https://localhost:8080/"
        },
        "id": "SSyR_QlsEAmb",
        "outputId": "d1677f10-027d-4f43-ee7a-00a8d2e278a8"
      },
      "outputs": [
        {
          "output_type": "execute_result",
          "data": {
            "text/plain": [
              "numpy.ndarray"
            ]
          },
          "metadata": {},
          "execution_count": 4
        }
      ],
      "source": [
        "# Repare que o numpy array não é uma lista, mas um novo objeto. \n",
        "type(np_lista)"
      ]
    },
    {
      "cell_type": "code",
      "source": [
        "print(np_lista)"
      ],
      "metadata": {
        "colab": {
          "base_uri": "https://localhost:8080/"
        },
        "id": "Eyr-N6aFTngb",
        "outputId": "383fea63-2539-42ce-c2d9-877004b4be96"
      },
      "execution_count": 5,
      "outputs": [
        {
          "output_type": "stream",
          "name": "stdout",
          "text": [
            "[1.  2.3 3. ]\n"
          ]
        }
      ]
    },
    {
      "cell_type": "code",
      "source": [
        "# O print é parecido, mas não é igual\n",
        "print(lista)"
      ],
      "metadata": {
        "colab": {
          "base_uri": "https://localhost:8080/"
        },
        "id": "Q9A_ITWKTrqc",
        "outputId": "57956c62-52d7-462f-94fa-ac72fab70356"
      },
      "execution_count": 6,
      "outputs": [
        {
          "output_type": "stream",
          "name": "stdout",
          "text": [
            "[1, 2.3, 3]\n"
          ]
        }
      ]
    },
    {
      "cell_type": "markdown",
      "metadata": {
        "id": "6x1YutOiEAmb"
      },
      "source": [
        "O que o numpy array tem de tão especial? "
      ]
    },
    {
      "cell_type": "code",
      "source": [
        "np_vals = np.array(vals)"
      ],
      "metadata": {
        "id": "6_MW8Jl7Uos6"
      },
      "execution_count": null,
      "outputs": []
    },
    {
      "cell_type": "code",
      "source": [
        "print(np_vals)"
      ],
      "metadata": {
        "colab": {
          "base_uri": "https://localhost:8080/"
        },
        "id": "0YNQFqwqUt0l",
        "outputId": "ee46e2c2-a5c1-436e-933e-850bb2a0583b"
      },
      "execution_count": null,
      "outputs": [
        {
          "output_type": "stream",
          "name": "stdout",
          "text": [
            "[1584.  1656.5 1629.8 1712.  1647.  1736.  1681.  1757.  1689.  1730.\n",
            " 1697.  1809.  1789.  1840.  1867.  1930.  1865.  1885.  1914.  1932.\n",
            " 1894.  1891.  1965.  1946.  1939.  2061.  1962.  2296.  2029.  2080.\n",
            " 1974.  2083.  1949.  2007.  2090.  2081.  2117.  2149.  2105.  2326.\n",
            " 2050.  2140.  2342.  2163.  2207.  2239.  2236.  2343.  2290.  2380.\n",
            " 2350.  2538.  2416.  2397.  2564.  2407.  2562.  2407.  2403.  2592.\n",
            " 2507.  2501.  2448.  2619.  2626.  2694.  2476.  2548.  2540.  2486.\n",
            " 2523.  2638.  2485.  2733.  2555.  2753.  2654.  2643.  2797.  2692.\n",
            " 2655.  2518.  2710.  2767.  2741.  2907.  2787.  3018.  2936.  2711.\n",
            " 2870.  2985.  2945.  2884.  3038.  3028.  3053.  3197.  3082.  3430.\n",
            " 3157.  3274.  3113.  3225.  3020.  3104.  3217.  3174.  3207.  3241.\n",
            " 3181.  3581.  3345.  3301.  3550.  3258.  3320.  3291.  3171.  3501.\n",
            " 3443.  3367.  3408.  3528.  3636.  3476.  3717.  3555.  3547.  3609.\n",
            " 3530.  3844.  3704.  3808.  3701.  4090.  3865.  3954.  4107.  3917.\n",
            " 3934.  3713.  3871.  4103.  4125.  4290.  3982.  4425.  4240.  4059.\n",
            " 4204.  4256.  4268.  4050.  4291.  4276.  4272.  4440. ]\n"
          ]
        }
      ]
    },
    {
      "cell_type": "code",
      "source": [
        "type(np_vals[0])"
      ],
      "metadata": {
        "colab": {
          "base_uri": "https://localhost:8080/"
        },
        "id": "N1GsPRnAXpQR",
        "outputId": "de751967-96b4-4366-a789-b1bd60347e59"
      },
      "execution_count": null,
      "outputs": [
        {
          "output_type": "execute_result",
          "data": {
            "text/plain": [
              "numpy.float64"
            ]
          },
          "metadata": {},
          "execution_count": 40
        }
      ]
    },
    {
      "cell_type": "code",
      "source": [
        "# Olha como é simples fazer o uso de estatística básica com numpy\n",
        "np.mean(np_vals)\n",
        "\n",
        "# Para desvio padrão\n",
        "np.std(np_vals)"
      ],
      "metadata": {
        "id": "uXcI2FJmVLE6"
      },
      "execution_count": null,
      "outputs": []
    },
    {
      "cell_type": "markdown",
      "source": [
        "Observe que podemos passar implicitamente para a função `np.mean` algo que **pareça** com array (listas, por exemplo). Chamamos esse tipo de \"ArrayLike\", ou alguma variável que possa ser convertido diretamente para `np.array`"
      ],
      "metadata": {
        "id": "4dpx1oRdBFvM"
      }
    },
    {
      "cell_type": "code",
      "source": [
        "# Usando a média de uma lista\n",
        "np.mean(vals)"
      ],
      "metadata": {
        "colab": {
          "base_uri": "https://localhost:8080/"
        },
        "id": "QZWYU7B0VhZG",
        "outputId": "6ac8c2ec-f3c5-466e-ce33-d69e204ad945"
      },
      "execution_count": null,
      "outputs": [
        {
          "output_type": "execute_result",
          "data": {
            "text/plain": [
              "2831.2424050632912"
            ]
          },
          "metadata": {},
          "execution_count": 32
        }
      ]
    },
    {
      "cell_type": "markdown",
      "source": [
        "Lembrando que o `np.array` é um objeto, que contém diversos métodos. Alguns destes métodos são exatamente iguais às funções existentes no numpy, como `mean`. \n",
        "\n",
        "Confira se o valor realmente bate usando `np.mean(np_vals)` e `np_vals.mean()`"
      ],
      "metadata": {
        "id": "vGwic4opBbWY"
      }
    },
    {
      "cell_type": "code",
      "source": [
        "np_vals.mean()"
      ],
      "metadata": {
        "colab": {
          "base_uri": "https://localhost:8080/"
        },
        "id": "SntZBBYYVLBe",
        "outputId": "644f4e9a-9e82-478d-fc4b-2d69711897d2"
      },
      "execution_count": null,
      "outputs": [
        {
          "output_type": "execute_result",
          "data": {
            "text/plain": [
              "2831.2424050632912"
            ]
          },
          "metadata": {},
          "execution_count": 36
        }
      ]
    },
    {
      "cell_type": "code",
      "source": [],
      "metadata": {
        "id": "Sdu1A5lzUtxk"
      },
      "execution_count": null,
      "outputs": []
    },
    {
      "cell_type": "markdown",
      "metadata": {
        "id": "x35Uodl5EAmc"
      },
      "source": [
        "### Os diferentes tipos de numpy array"
      ]
    },
    {
      "cell_type": "markdown",
      "metadata": {
        "id": "nzWea003EAmc"
      },
      "source": [
        "Um `np.array` não é igual a uma lista. \n",
        "\n",
        "Uma das principais diferenças é que os elementos de um vetor devem ser do **mesmo** tipo."
      ]
    },
    {
      "cell_type": "markdown",
      "metadata": {
        "id": "xDa734k1EAmc"
      },
      "source": [
        "Exemplo: tente criar uma lista que contenha valores inteiros e uma string. Tente acessar o elemento numérico e veja qual é o tipo da variável. Por que isso acontece?"
      ]
    },
    {
      "cell_type": "code",
      "source": [
        "lista = [15, 'Oi']"
      ],
      "metadata": {
        "id": "oGB9vV4AXMhB"
      },
      "execution_count": null,
      "outputs": []
    },
    {
      "cell_type": "code",
      "source": [
        "# Perceba que, ao criarmos um np.array, a variável inteira foi convertida para \n",
        "# string, de modo a tornar os elementos homogêneos. \n",
        "\n",
        "\n",
        "np.array(lista)"
      ],
      "metadata": {
        "colab": {
          "base_uri": "https://localhost:8080/"
        },
        "id": "jBJtPaMoXMcN",
        "outputId": "fe67e9e1-2427-4259-83b9-fb15d6c8055b"
      },
      "execution_count": null,
      "outputs": [
        {
          "output_type": "execute_result",
          "data": {
            "text/plain": [
              "array(['15', 'Oi'], dtype='<U21')"
            ]
          },
          "metadata": {},
          "execution_count": 42
        }
      ]
    },
    {
      "cell_type": "code",
      "execution_count": null,
      "metadata": {
        "id": "oPd_jJPrEAme"
      },
      "outputs": [],
      "source": [
        "lista = [0, True, True, False]\n",
        "\n",
        "np_lista = np.array(lista)"
      ]
    },
    {
      "cell_type": "code",
      "source": [
        "type(np_lista[0])"
      ],
      "metadata": {
        "colab": {
          "base_uri": "https://localhost:8080/"
        },
        "id": "Mzt_6AdDZCJb",
        "outputId": "f5ee4ad4-076f-4f4f-9867-4b84fa0b3ec1"
      },
      "execution_count": null,
      "outputs": [
        {
          "output_type": "execute_result",
          "data": {
            "text/plain": [
              "numpy.int64"
            ]
          },
          "metadata": {},
          "execution_count": 52
        }
      ]
    },
    {
      "cell_type": "markdown",
      "metadata": {
        "id": "HYY0sp5BEAme"
      },
      "source": [
        "Agora tente criar um vetor contendo inteiros e um valor float. Qual será o tipo do vetor neste caso? "
      ]
    },
    {
      "cell_type": "code",
      "execution_count": null,
      "metadata": {
        "id": "6VQoU9_HEAme"
      },
      "outputs": [],
      "source": []
    },
    {
      "cell_type": "code",
      "execution_count": null,
      "metadata": {
        "id": "OarZXOmZEAme"
      },
      "outputs": [],
      "source": []
    },
    {
      "cell_type": "markdown",
      "metadata": {
        "id": "tgZ-k5SNEAmf"
      },
      "source": [
        "Basicamente temos uma hierarquia de tipos de variáveis no Numpy. A imagem abaixo ajuda a ilustrar melhor como funciona. "
      ]
    },
    {
      "cell_type": "markdown",
      "metadata": {
        "id": "ricB4dt2EAmf"
      },
      "source": [
        "![image.png](attachment:image.png)"
      ]
    },
    {
      "cell_type": "code",
      "execution_count": null,
      "metadata": {
        "id": "x-szMgJAEAmf"
      },
      "outputs": [],
      "source": []
    },
    {
      "cell_type": "markdown",
      "metadata": {
        "id": "_NjoghGiEAmf"
      },
      "source": [
        "### Operações lógicas com Numpy"
      ]
    },
    {
      "cell_type": "markdown",
      "metadata": {
        "id": "KXPtfZAyEAmf"
      },
      "source": [
        "Existem inúmeras vantagens do Numpy para o dia-a-dia de quem trabalha na área de dados. \n",
        "\n",
        "Talvez uma das principais seja a facilidade para operações lógicas e aritméticas. "
      ]
    },
    {
      "cell_type": "markdown",
      "metadata": {
        "id": "HQ3tambfEAmf"
      },
      "source": [
        "Neste primeiro momento, daremos uma atenção maior para operações lógicas."
      ]
    },
    {
      "cell_type": "code",
      "source": [
        "np_vals"
      ],
      "metadata": {
        "colab": {
          "base_uri": "https://localhost:8080/"
        },
        "id": "v02BAK7raLx-",
        "outputId": "bbd2929c-62d7-4c43-e30d-11eb88f8f600"
      },
      "execution_count": null,
      "outputs": [
        {
          "output_type": "execute_result",
          "data": {
            "text/plain": [
              "array([1584. , 1656.5, 1629.8, 1712. , 1647. , 1736. , 1681. , 1757. ,\n",
              "       1689. , 1730. , 1697. , 1809. , 1789. , 1840. , 1867. , 1930. ,\n",
              "       1865. , 1885. , 1914. , 1932. , 1894. , 1891. , 1965. , 1946. ,\n",
              "       1939. , 2061. , 1962. , 2296. , 2029. , 2080. , 1974. , 2083. ,\n",
              "       1949. , 2007. , 2090. , 2081. , 2117. , 2149. , 2105. , 2326. ,\n",
              "       2050. , 2140. , 2342. , 2163. , 2207. , 2239. , 2236. , 2343. ,\n",
              "       2290. , 2380. , 2350. , 2538. , 2416. , 2397. , 2564. , 2407. ,\n",
              "       2562. , 2407. , 2403. , 2592. , 2507. , 2501. , 2448. , 2619. ,\n",
              "       2626. , 2694. , 2476. , 2548. , 2540. , 2486. , 2523. , 2638. ,\n",
              "       2485. , 2733. , 2555. , 2753. , 2654. , 2643. , 2797. , 2692. ,\n",
              "       2655. , 2518. , 2710. , 2767. , 2741. , 2907. , 2787. , 3018. ,\n",
              "       2936. , 2711. , 2870. , 2985. , 2945. , 2884. , 3038. , 3028. ,\n",
              "       3053. , 3197. , 3082. , 3430. , 3157. , 3274. , 3113. , 3225. ,\n",
              "       3020. , 3104. , 3217. , 3174. , 3207. , 3241. , 3181. , 3581. ,\n",
              "       3345. , 3301. , 3550. , 3258. , 3320. , 3291. , 3171. , 3501. ,\n",
              "       3443. , 3367. , 3408. , 3528. , 3636. , 3476. , 3717. , 3555. ,\n",
              "       3547. , 3609. , 3530. , 3844. , 3704. , 3808. , 3701. , 4090. ,\n",
              "       3865. , 3954. , 4107. , 3917. , 3934. , 3713. , 3871. , 4103. ,\n",
              "       4125. , 4290. , 3982. , 4425. , 4240. , 4059. , 4204. , 4256. ,\n",
              "       4268. , 4050. , 4291. , 4276. , 4272. , 4440. ])"
            ]
          },
          "metadata": {},
          "execution_count": 56
        }
      ]
    },
    {
      "cell_type": "code",
      "execution_count": null,
      "metadata": {
        "colab": {
          "base_uri": "https://localhost:8080/"
        },
        "id": "8O4vLWvKEAmf",
        "outputId": "d68cfdf7-1d94-452a-9810-61629afb1532"
      },
      "outputs": [
        {
          "output_type": "execute_result",
          "data": {
            "text/plain": [
              "array([False, False, False, False, False, False, False, False, False,\n",
              "       False, False, False, False, False, False, False, False, False,\n",
              "       False, False, False, False, False, False, False,  True, False,\n",
              "        True,  True,  True, False,  True, False,  True,  True,  True,\n",
              "        True,  True,  True,  True,  True,  True,  True,  True,  True,\n",
              "        True,  True,  True,  True,  True,  True,  True,  True,  True,\n",
              "        True,  True,  True,  True,  True,  True,  True,  True,  True,\n",
              "        True,  True,  True,  True,  True,  True,  True,  True,  True,\n",
              "        True,  True,  True,  True,  True,  True,  True,  True,  True,\n",
              "        True,  True,  True,  True,  True,  True,  True,  True,  True,\n",
              "        True,  True,  True,  True,  True,  True,  True,  True,  True,\n",
              "        True,  True,  True,  True,  True,  True,  True,  True,  True,\n",
              "        True,  True,  True,  True,  True,  True,  True,  True,  True,\n",
              "        True,  True,  True,  True,  True,  True,  True,  True,  True,\n",
              "        True,  True,  True,  True,  True,  True,  True,  True,  True,\n",
              "        True,  True,  True,  True,  True,  True,  True,  True,  True,\n",
              "        True,  True,  True,  True,  True,  True,  True,  True,  True,\n",
              "        True,  True,  True,  True,  True])"
            ]
          },
          "metadata": {},
          "execution_count": 64
        }
      ],
      "source": [
        "np_vals >= 2000"
      ]
    },
    {
      "cell_type": "code",
      "source": [
        "# Podemos também armazenar este resultado em uma variável.\n",
        "# Chamaremos realmente este tipo de variável como uma máscara binária,\n",
        "# pois usaremos comumente para a filtragem de np.ndarray.\n",
        "val_2000 = np_vals >= 2000"
      ],
      "metadata": {
        "id": "jIMxs3qaCKG1"
      },
      "execution_count": null,
      "outputs": []
    },
    {
      "cell_type": "code",
      "source": [
        "# Mas também podemos usar para fazer contagem, por exemplo...\n",
        "\n",
        "np.sum(val_2000)"
      ],
      "metadata": {
        "colab": {
          "base_uri": "https://localhost:8080/"
        },
        "id": "_DXsxAgsZzY4",
        "outputId": "aec767ba-8abd-4794-c39f-aa7adfa88899"
      },
      "execution_count": null,
      "outputs": [
        {
          "output_type": "execute_result",
          "data": {
            "text/plain": [
              "130"
            ]
          },
          "metadata": {},
          "execution_count": 63
        }
      ]
    },
    {
      "cell_type": "code",
      "execution_count": null,
      "metadata": {
        "id": "J0FaoySyEAmf"
      },
      "outputs": [],
      "source": []
    },
    {
      "cell_type": "code",
      "execution_count": null,
      "metadata": {
        "id": "xTeLZ6jJEAmg"
      },
      "outputs": [],
      "source": []
    },
    {
      "cell_type": "markdown",
      "metadata": {
        "id": "I7u9X3SIEAmg"
      },
      "source": [
        "### Indexing, slicing and masking."
      ]
    },
    {
      "cell_type": "markdown",
      "metadata": {
        "id": "uJpetlTzEAmg"
      },
      "source": [
        "Sabemos como podemos acessar e gerar fatias com listas. Felizmente, para o `np.array` o procedimento é bem semelhante."
      ]
    },
    {
      "cell_type": "code",
      "source": [
        "# Pegando os três primeiros valores **e** invertendo a ordem. Repare que o [::-1]\n",
        "# que é o responsável por inverter a ordem da lista vals[:3]\n",
        "vals[:3][::-1]"
      ],
      "metadata": {
        "colab": {
          "base_uri": "https://localhost:8080/"
        },
        "id": "1SkJ1MSIhiJv",
        "outputId": "cce7e2be-30d4-486e-fe8b-196ac5589a31"
      },
      "execution_count": null,
      "outputs": [
        {
          "output_type": "execute_result",
          "data": {
            "text/plain": [
              "[1629.8, 1656.5, 1584]"
            ]
          },
          "metadata": {},
          "execution_count": 79
        }
      ]
    },
    {
      "cell_type": "code",
      "execution_count": null,
      "metadata": {
        "colab": {
          "base_uri": "https://localhost:8080/"
        },
        "id": "OlMIzsYsEAmg",
        "outputId": "df193b81-1f8b-4c2f-d780-e77c275ccc72"
      },
      "outputs": [
        {
          "output_type": "stream",
          "name": "stdout",
          "text": [
            "[4107, 3917, 3934, 3713, 3871, 4103, 4125, 4290, 3982, 4425, 4240, 4059, 4204, 4256, 4268, 4050, 4291, 4276, 4272, 4440]\n"
          ]
        }
      ],
      "source": [
        "# Pegando os últimos 20 valores\n",
        "print(vals[-20:])"
      ]
    },
    {
      "cell_type": "code",
      "execution_count": null,
      "metadata": {
        "colab": {
          "base_uri": "https://localhost:8080/"
        },
        "id": "5PCdyz6KEAmg",
        "outputId": "f396da73-73d5-4564-a468-4eab757955e6"
      },
      "outputs": [
        {
          "output_type": "execute_result",
          "data": {
            "text/plain": [
              "array([1584. , 1656.5, 1629.8])"
            ]
          },
          "metadata": {},
          "execution_count": 75
        }
      ],
      "source": [
        "# Em numpy, a sintaxe é a mesma que usamos para lista!\n",
        "\n",
        "np_vals[:3]"
      ]
    },
    {
      "cell_type": "markdown",
      "metadata": {
        "id": "-1LuNP2fEAmg"
      },
      "source": [
        "Inclusive de filtrar dados que gostaríamos de receber. "
      ]
    },
    {
      "cell_type": "markdown",
      "source": [
        "Lembrando que, dentro do colchetes, podemos inserir manualmente os índices, usar slices ou então inserirmos uma máscara binária. Neste último caso, a filtragem só mostrará os elementos cuja a máscara contém o valor `True`."
      ],
      "metadata": {
        "id": "zV_GYKecDH_z"
      }
    },
    {
      "cell_type": "code",
      "execution_count": null,
      "metadata": {
        "id": "nUt4qQOXEAmg"
      },
      "outputs": [],
      "source": [
        "# Dependendo da situação, é mais conveniente mostrar explicitamente a condição \n",
        "# de filtragem do que usar uma variável contendo a máscara binária\n",
        "np_maior_2000 = np_vals[np_vals > 2000]"
      ]
    },
    {
      "cell_type": "code",
      "execution_count": null,
      "metadata": {
        "colab": {
          "base_uri": "https://localhost:8080/"
        },
        "id": "I0JPVZl1EAmh",
        "outputId": "c0a6bedb-87bf-4150-9072-587a0adca250"
      },
      "outputs": [
        {
          "output_type": "execute_result",
          "data": {
            "text/plain": [
              "array([2061., 2296., 2029., 2080., 2083., 2007., 2090., 2081., 2117.,\n",
              "       2149., 2105., 2326., 2050., 2140., 2342., 2163., 2207., 2239.,\n",
              "       2236., 2343., 2290., 2380., 2350., 2538., 2416., 2397., 2564.,\n",
              "       2407., 2562., 2407., 2403., 2592., 2507., 2501., 2448., 2619.,\n",
              "       2626., 2694., 2476., 2548., 2540., 2486., 2523., 2638., 2485.,\n",
              "       2733., 2555., 2753., 2654., 2643., 2797., 2692., 2655., 2518.,\n",
              "       2710., 2767., 2741., 2907., 2787., 3018., 2936., 2711., 2870.,\n",
              "       2985., 2945., 2884., 3038., 3028., 3053., 3197., 3082., 3430.,\n",
              "       3157., 3274., 3113., 3225., 3020., 3104., 3217., 3174., 3207.,\n",
              "       3241., 3181., 3581., 3345., 3301., 3550., 3258., 3320., 3291.,\n",
              "       3171., 3501., 3443., 3367., 3408., 3528., 3636., 3476., 3717.,\n",
              "       3555., 3547., 3609., 3530., 3844., 3704., 3808., 3701., 4090.,\n",
              "       3865., 3954., 4107., 3917., 3934., 3713., 3871., 4103., 4125.,\n",
              "       4290., 3982., 4425., 4240., 4059., 4204., 4256., 4268., 4050.,\n",
              "       4291., 4276., 4272., 4440.])"
            ]
          },
          "metadata": {},
          "execution_count": 86
        }
      ],
      "source": [
        "np_maior_2000"
      ]
    },
    {
      "cell_type": "code",
      "source": [
        "np_maior_2000[0] = 10000000000000"
      ],
      "metadata": {
        "id": "YOhq_LrOkZ7t"
      },
      "execution_count": null,
      "outputs": []
    },
    {
      "cell_type": "markdown",
      "source": [
        "Vamos tentar ver se, caso a gente altere o `np_maior_2000`, também alteraremos o `np_vals`."
      ],
      "metadata": {
        "id": "Y_DZ0jMQDnQi"
      }
    },
    {
      "cell_type": "code",
      "source": [
        "np_maior_2000"
      ],
      "metadata": {
        "colab": {
          "base_uri": "https://localhost:8080/"
        },
        "id": "kaVo5eIwkgIB",
        "outputId": "5423b3de-400f-4fa8-be39-239b83e95e69"
      },
      "execution_count": null,
      "outputs": [
        {
          "output_type": "execute_result",
          "data": {
            "text/plain": [
              "array([1.000e+13, 2.296e+03, 2.029e+03, 2.080e+03, 2.083e+03, 2.007e+03,\n",
              "       2.090e+03, 2.081e+03, 2.117e+03, 2.149e+03, 2.105e+03, 2.326e+03,\n",
              "       2.050e+03, 2.140e+03, 2.342e+03, 2.163e+03, 2.207e+03, 2.239e+03,\n",
              "       2.236e+03, 2.343e+03, 2.290e+03, 2.380e+03, 2.350e+03, 2.538e+03,\n",
              "       2.416e+03, 2.397e+03, 2.564e+03, 2.407e+03, 2.562e+03, 2.407e+03,\n",
              "       2.403e+03, 2.592e+03, 2.507e+03, 2.501e+03, 2.448e+03, 2.619e+03,\n",
              "       2.626e+03, 2.694e+03, 2.476e+03, 2.548e+03, 2.540e+03, 2.486e+03,\n",
              "       2.523e+03, 2.638e+03, 2.485e+03, 2.733e+03, 2.555e+03, 2.753e+03,\n",
              "       2.654e+03, 2.643e+03, 2.797e+03, 2.692e+03, 2.655e+03, 2.518e+03,\n",
              "       2.710e+03, 2.767e+03, 2.741e+03, 2.907e+03, 2.787e+03, 3.018e+03,\n",
              "       2.936e+03, 2.711e+03, 2.870e+03, 2.985e+03, 2.945e+03, 2.884e+03,\n",
              "       3.038e+03, 3.028e+03, 3.053e+03, 3.197e+03, 3.082e+03, 3.430e+03,\n",
              "       3.157e+03, 3.274e+03, 3.113e+03, 3.225e+03, 3.020e+03, 3.104e+03,\n",
              "       3.217e+03, 3.174e+03, 3.207e+03, 3.241e+03, 3.181e+03, 3.581e+03,\n",
              "       3.345e+03, 3.301e+03, 3.550e+03, 3.258e+03, 3.320e+03, 3.291e+03,\n",
              "       3.171e+03, 3.501e+03, 3.443e+03, 3.367e+03, 3.408e+03, 3.528e+03,\n",
              "       3.636e+03, 3.476e+03, 3.717e+03, 3.555e+03, 3.547e+03, 3.609e+03,\n",
              "       3.530e+03, 3.844e+03, 3.704e+03, 3.808e+03, 3.701e+03, 4.090e+03,\n",
              "       3.865e+03, 3.954e+03, 4.107e+03, 3.917e+03, 3.934e+03, 3.713e+03,\n",
              "       3.871e+03, 4.103e+03, 4.125e+03, 4.290e+03, 3.982e+03, 4.425e+03,\n",
              "       4.240e+03, 4.059e+03, 4.204e+03, 4.256e+03, 4.268e+03, 4.050e+03,\n",
              "       4.291e+03, 4.276e+03, 4.272e+03, 4.440e+03])"
            ]
          },
          "metadata": {},
          "execution_count": 90
        }
      ]
    },
    {
      "cell_type": "code",
      "source": [
        "np_vals"
      ],
      "metadata": {
        "colab": {
          "base_uri": "https://localhost:8080/"
        },
        "id": "YFfhD1uUkc2i",
        "outputId": "35609ae8-d58c-441f-f0b1-4cb2a38b62e3"
      },
      "execution_count": null,
      "outputs": [
        {
          "output_type": "execute_result",
          "data": {
            "text/plain": [
              "array([1584. , 1656.5, 1629.8, 1712. , 1647. , 1736. , 1681. , 1757. ,\n",
              "       1689. , 1730. , 1697. , 1809. , 1789. , 1840. , 1867. , 1930. ,\n",
              "       1865. , 1885. , 1914. , 1932. , 1894. , 1891. , 1965. , 1946. ,\n",
              "       1939. , 2061. , 1962. , 2296. , 2029. , 2080. , 1974. , 2083. ,\n",
              "       1949. , 2007. , 2090. , 2081. , 2117. , 2149. , 2105. , 2326. ,\n",
              "       2050. , 2140. , 2342. , 2163. , 2207. , 2239. , 2236. , 2343. ,\n",
              "       2290. , 2380. , 2350. , 2538. , 2416. , 2397. , 2564. , 2407. ,\n",
              "       2562. , 2407. , 2403. , 2592. , 2507. , 2501. , 2448. , 2619. ,\n",
              "       2626. , 2694. , 2476. , 2548. , 2540. , 2486. , 2523. , 2638. ,\n",
              "       2485. , 2733. , 2555. , 2753. , 2654. , 2643. , 2797. , 2692. ,\n",
              "       2655. , 2518. , 2710. , 2767. , 2741. , 2907. , 2787. , 3018. ,\n",
              "       2936. , 2711. , 2870. , 2985. , 2945. , 2884. , 3038. , 3028. ,\n",
              "       3053. , 3197. , 3082. , 3430. , 3157. , 3274. , 3113. , 3225. ,\n",
              "       3020. , 3104. , 3217. , 3174. , 3207. , 3241. , 3181. , 3581. ,\n",
              "       3345. , 3301. , 3550. , 3258. , 3320. , 3291. , 3171. , 3501. ,\n",
              "       3443. , 3367. , 3408. , 3528. , 3636. , 3476. , 3717. , 3555. ,\n",
              "       3547. , 3609. , 3530. , 3844. , 3704. , 3808. , 3701. , 4090. ,\n",
              "       3865. , 3954. , 4107. , 3917. , 3934. , 3713. , 3871. , 4103. ,\n",
              "       4125. , 4290. , 3982. , 4425. , 4240. , 4059. , 4204. , 4256. ,\n",
              "       4268. , 4050. , 4291. , 4276. , 4272. , 4440. ])"
            ]
          },
          "metadata": {},
          "execution_count": 89
        }
      ]
    },
    {
      "cell_type": "code",
      "source": [],
      "metadata": {
        "id": "_don_BACkc0D"
      },
      "execution_count": null,
      "outputs": []
    },
    {
      "cell_type": "code",
      "source": [],
      "metadata": {
        "id": "2IIS5h_3kcwq"
      },
      "execution_count": null,
      "outputs": []
    },
    {
      "cell_type": "markdown",
      "source": [
        "Ok, isso não aconteceu. Mas..."
      ],
      "metadata": {
        "id": "am5dB4hgDulV"
      }
    },
    {
      "cell_type": "markdown",
      "metadata": {
        "id": "w9JZjNdWEAmh"
      },
      "source": [
        "**Atenção** Ao alterar o pedaço da vetor recortado, você altera o objeto original! "
      ]
    },
    {
      "cell_type": "code",
      "execution_count": null,
      "metadata": {
        "id": "y-Ia3KEsEAmh"
      },
      "outputs": [],
      "source": [
        "my_vec = np.array([1,3,4,5])\n",
        "\n",
        "my_slice = my_vec[1:]"
      ]
    },
    {
      "cell_type": "code",
      "source": [
        "my_slice"
      ],
      "metadata": {
        "colab": {
          "base_uri": "https://localhost:8080/"
        },
        "id": "vfaSyVd3kmcq",
        "outputId": "ddc58019-3b3f-4df8-c440-2581cbb77ccb"
      },
      "execution_count": null,
      "outputs": [
        {
          "output_type": "execute_result",
          "data": {
            "text/plain": [
              "array([3, 4, 5])"
            ]
          },
          "metadata": {},
          "execution_count": 96
        }
      ]
    },
    {
      "cell_type": "code",
      "execution_count": null,
      "metadata": {
        "colab": {
          "base_uri": "https://localhost:8080/"
        },
        "id": "3ghbR3bOEAmh",
        "outputId": "7903600b-5c75-479f-c279-4aa21a6e96df"
      },
      "outputs": [
        {
          "output_type": "stream",
          "name": "stdout",
          "text": [
            "[100   4   5]\n"
          ]
        }
      ],
      "source": [
        "my_slice[0] = 100 \n",
        "\n",
        "print(my_slice)"
      ]
    },
    {
      "cell_type": "code",
      "execution_count": null,
      "metadata": {
        "colab": {
          "base_uri": "https://localhost:8080/"
        },
        "id": "VbSbe5-bEAmh",
        "outputId": "a4087ff5-bc8e-400e-ae3e-85178719cf9d"
      },
      "outputs": [
        {
          "output_type": "stream",
          "name": "stdout",
          "text": [
            "[1 3 4 5]\n"
          ]
        }
      ],
      "source": [
        "#O que vai acontecer com my_vec?\n",
        "print(my_vec)"
      ]
    },
    {
      "cell_type": "markdown",
      "metadata": {
        "id": "4FDF5IdDEAmh"
      },
      "source": [
        "E por que isso ocorre?\n",
        "\n",
        "Dependendo do caso (e.g. usar o slice), a nova variável é uma cópia rasa (ou cópia por referência) da variável original. Ao alterar esta nova variável, também iremos alterar a variável original. \n",
        "\n",
        "Para evitar esse problema, nestes casos devemos usar o `np.copy`, para garantir a cópia da \"fatia\" para uma nova variável.\n",
        "\n",
        "Para quem quiser dar uma lida melhor sobre o assunto de shallow copy/deep copy: https://www.programiz.com/python-programming/shallow-deep-copy"
      ]
    },
    {
      "cell_type": "code",
      "execution_count": null,
      "metadata": {
        "id": "HxAcjtW2EAmh"
      },
      "outputs": [],
      "source": [
        "# Shallow copy / Deep copy"
      ]
    },
    {
      "cell_type": "code",
      "execution_count": null,
      "metadata": {
        "id": "7hqokMEbEAmi"
      },
      "outputs": [],
      "source": []
    },
    {
      "cell_type": "code",
      "execution_count": null,
      "metadata": {
        "id": "_ki3pusBEAmi"
      },
      "outputs": [],
      "source": []
    },
    {
      "cell_type": "markdown",
      "metadata": {
        "id": "2-bZpHRwEAmi"
      },
      "source": [
        "## Matemática com Numpy "
      ]
    },
    {
      "cell_type": "markdown",
      "metadata": {
        "id": "RJcoFvzuEAmi"
      },
      "source": [
        "O grande trunfo do Numpy é, sem dúvidas, o seu uso para cálculo, o que o torna uma ferramente importantíssima para qualquer pessoa que queira mexer com dados. \n",
        "\n",
        "Vamos supor dois vetores, `a` e `b`, de mesma dimensão. Podemos fazer todas as operações possíveis:\n",
        "\n",
        "- Soma ou subtração de vetores (`a + b`).\n",
        "- Multiplicação de vetores. (`a * b`)\n",
        "- Divisão de vetores. (`a / b`)\n",
        "\n",
        "O mesmo vale para matrizes e tensores (veremos na próxima aula!)."
      ]
    },
    {
      "cell_type": "code",
      "execution_count": null,
      "metadata": {
        "colab": {
          "base_uri": "https://localhost:8080/"
        },
        "id": "fZPcJH1JEAmi",
        "outputId": "b20e7721-f636-4ce0-ea4c-65fac47f2a34"
      },
      "outputs": [
        {
          "output_type": "execute_result",
          "data": {
            "text/plain": [
              "array([False, False, False, False, False, False])"
            ]
          },
          "metadata": {},
          "execution_count": 102
        }
      ],
      "source": [
        "v1 = np.array([2, 3, 5, 100, 1000, 500]) \n",
        "v2 = np.array([5, 8, 10, 100, 1000, 500])\n",
        "\n",
        "v1 > v2"
      ]
    },
    {
      "cell_type": "code",
      "source": [],
      "metadata": {
        "id": "D1XkI5kEoWgp"
      },
      "execution_count": null,
      "outputs": []
    },
    {
      "cell_type": "code",
      "source": [
        "# Fazendo uma operação aritmética mais complicada\n",
        "(v1 - np.mean(v1))**2"
      ],
      "metadata": {
        "colab": {
          "base_uri": "https://localhost:8080/"
        },
        "id": "JKs5hbcpoWb3",
        "outputId": "cb9acdd3-e277-4a5a-feb4-4ae066b0a26b"
      },
      "execution_count": null,
      "outputs": [
        {
          "output_type": "execute_result",
          "data": {
            "text/plain": [
              "array([ 70933.44444444,  70401.77777778,  69344.44444444,  28336.11111111,\n",
              "       535336.11111111,  53669.44444444])"
            ]
          },
          "metadata": {},
          "execution_count": 107
        }
      ]
    },
    {
      "cell_type": "code",
      "source": [],
      "metadata": {
        "id": "EE5x481WoWZM"
      },
      "execution_count": null,
      "outputs": []
    },
    {
      "cell_type": "code",
      "source": [],
      "metadata": {
        "id": "J4wl-K-kqFMa"
      },
      "execution_count": null,
      "outputs": []
    },
    {
      "cell_type": "markdown",
      "metadata": {
        "id": "n0-L6ZTtEAmi"
      },
      "source": [
        "O que acontece se fizermos as seguintes operações?"
      ]
    },
    {
      "cell_type": "code",
      "execution_count": null,
      "metadata": {
        "id": "ksg1uMVLEAmi"
      },
      "outputs": [],
      "source": [
        "my_vec = np.zeros(3) \n",
        "\n",
        "my_vec = my_vec + 3\n",
        "\n",
        "print(my_vec)"
      ]
    },
    {
      "cell_type": "code",
      "execution_count": null,
      "metadata": {
        "id": "daMZtihGEAmj"
      },
      "outputs": [],
      "source": [
        "my_vec * 5"
      ]
    },
    {
      "cell_type": "code",
      "execution_count": null,
      "metadata": {
        "id": "TJPts07OEAmj"
      },
      "outputs": [],
      "source": []
    },
    {
      "cell_type": "code",
      "execution_count": null,
      "metadata": {
        "id": "hPCj2OMBEAmj"
      },
      "outputs": [],
      "source": []
    },
    {
      "cell_type": "markdown",
      "metadata": {
        "id": "U9EWphR_EAmj"
      },
      "source": [
        "Nas primeiras operações mostradas, falamos que as contas são feitas de forma `element-wise`. Isto é, o primeiro elemento do primeiro vetor realiza a operação com o primeiro elemento do segundo vetor, e assim segue. No segundo caso, o `numpy` compreende a operação que deve ser realizada (e.g. somar 5 em todos os elementos do vetor) e faz uma operação que chamamos de *stretch* \n",
        "\n",
        "![Exemplo de stretch](https://numpy.org/doc/stable/_images/broadcasting_1.png)"
      ]
    },
    {
      "cell_type": "markdown",
      "metadata": {
        "id": "PcEkEFADEAmj"
      },
      "source": [
        "E funciona também com matrizes, sempre que for possível. Isso também veremos na próxima aula!\n",
        "\n",
        "![Exemplo](https://numpy.org/doc/stable/_images/broadcasting_2.png)"
      ]
    },
    {
      "cell_type": "code",
      "execution_count": null,
      "metadata": {
        "id": "eeQbHklUEAmj"
      },
      "outputs": [],
      "source": []
    },
    {
      "cell_type": "markdown",
      "metadata": {
        "id": "eEOQCiV3EAmk"
      },
      "source": [
        "O numpy tem uma quantidade enorme de \"artifícios\" para manipulação matemática. Basicamente todas as operações elementais estão presentes, assim como algumas operações vetoriais e matriciais. \n",
        "\n",
        "- Produto escalar `np.dot`\n",
        "\n",
        "- Produto vetorial `np.cross` \n",
        "\n",
        "- Multiplicação de matrizes `np.matmul` (próxima aula)\n",
        "\n",
        "- Valores máximos e mínimos `np.max`, `np.min`\n",
        "\n",
        "- Índices onde os valores são máximos `np.argmax` ou mínimos `np.argmin`. \n",
        "\n",
        "\n",
        "Dica pessoal: qualquer outra operação desejada para o uso em Python, pesquise na [documentação do Numpy](https://numpy.org/doc/stable/index.html)."
      ]
    },
    {
      "cell_type": "code",
      "execution_count": null,
      "metadata": {
        "id": "AmqrRiptEAmk"
      },
      "outputs": [],
      "source": []
    },
    {
      "cell_type": "markdown",
      "metadata": {
        "id": "aPt9I055EAmk"
      },
      "source": [
        "## Exercícios de fixação"
      ]
    },
    {
      "cell_type": "markdown",
      "metadata": {
        "id": "YM_JRfnBEAmk"
      },
      "source": [
        "1. Escreva um programa para criar um array Numpy e encontrar os índices de todos os elementos iguais a um valor específico.\n",
        "\n",
        "2. Escreva um programa para criar um array Numpy e extrair todos os elementos maiores que um valor específico usando slicing e masking.\n",
        "\n",
        "3. Escreva um programa para criar um array Numpy e usar indexação para extrair elementos em uma linha e coluna específicas.\n",
        "\n",
        "4. Escreva um programa para criar um array Numpy e calcular a soma de todos os elementos maiores que um valor específico.\n",
        "\n",
        "5. Escreva um programa que faça a soma de todos os elementos pares de um numpy array. \n",
        "\n",
        "6. Escreva um programa que readeque todos os valores de um array Numpy entre 0 e 5. Para isso, valores menores que 0 devem ser substituídos por 0, e valores maiores que 5 devem ser substituídas por 5.\n",
        "\n",
        "7. Faça um programa que cria uma lista de listas e transforme em Numpy."
      ]
    },
    {
      "cell_type": "code",
      "source": [
        "# Boas práticas. \n",
        "\n",
        "from numpy.typing import NDArray\n",
        "from typing import Any \n",
        "\n",
        "# Type hinting ajuda a entender o que está sendo escrito na função. A sintaxe é \n",
        "# bem simples, dependendo do que estamos anotando. Basicamente, para todos os \n",
        "# parâmetros de entrada, usamos o dois pontos : e o tipo que queremos anotar \n",
        "# (float, List, Dict, NDArray, etc). Para anotarmos o retorno da função, usamos \n",
        "# a flecha depois dos parêntesis da função. \n",
        "\n",
        "# Para entender melhor: https://peps.python.org/pep-0484/\n",
        "# https://github.com/ramonhagenaars/nptyping"
      ],
      "metadata": {
        "id": "3SCLkkiRIMhO"
      },
      "execution_count": 14,
      "outputs": []
    },
    {
      "cell_type": "code",
      "execution_count": 16,
      "metadata": {
        "id": "b56aaxLxEAmk"
      },
      "outputs": [],
      "source": [
        "from traitlets.traitlets import List\n",
        "#Exercício 1\n",
        "def exercicio_1(vals:NDArray[Any], num:float) -> NDArray[np.bool_]:\n",
        "  mask = vals == num\n",
        "  return mask\n",
        "# OBS: Se quisermos de fato um vetor com os índices, devemos usar outras funções \n",
        "# do numpy, como np.argwhere ou np.argmax.\n",
        "\n",
        "#Exercício 2\n",
        "# Programa que recebe vals (numpy array) e num (valor específico) -> vals > num(numpy array)\n",
        "def exercicio_2(vals:NDArray[Any], num:float) -> NDArray[Any]:\n",
        "# elementos em vals que é maior que 4\n",
        "  nvals = vals[vals > num]\n",
        "  return nvals\n",
        "\n",
        "def exercicio_4(vals:NDArray[Any], num:float) -> float:\n",
        "  nvals = exercicio_2(vals, num)\n",
        "  soma = np.sum(nvals)  \n",
        "  return soma\n",
        "\n",
        "def exercicio_5(vals:NDArray[Any], num:float) -> float:\n",
        "  nvals = vals[vals%2 == 0]\n",
        "  soma = np.sum(nvals)\n",
        "  return soma \n",
        "# OBS: Repare que estamos usando uma operação aritmética E uma operação lógica para a máscara.\n",
        "\n",
        "\n",
        "def exercicio_6(vals:NDArray[Any]):\n",
        "  nvals = np.copy(vals)\n",
        "  nvals[nvals>5] = 5\n",
        "  nvals[nvals<0] = 0\n",
        "  return nvals \n",
        "\n",
        "def exercicio_7(lista_listas:List):\n",
        "  matriz = np.array(lista_listas)\n",
        "  return matriz "
      ]
    },
    {
      "cell_type": "code",
      "execution_count": 17,
      "metadata": {
        "id": "8c8qT71JEAmk",
        "colab": {
          "base_uri": "https://localhost:8080/"
        },
        "outputId": "ba2ae6d1-0b85-46e4-aa64-a9eaf71f3d4a"
      },
      "outputs": [
        {
          "output_type": "stream",
          "name": "stdout",
          "text": [
            "Para todos os exemplos dos exercícios (1 a 6), usaremos vals = [1 2 5 8 4] e num = 4\n",
            "Exercício 2: [5 8]\n",
            "Exercício 4: 13\n",
            "Exercício 5: 14\n",
            "Exercício 6: [1 2 5 5 4]\n",
            "Exercício 7: \n",
            " [[2 5]\n",
            " [4 6]]\n"
          ]
        }
      ],
      "source": [
        "vals = np.array([1, 2, 5, 8, 4])\n",
        "num = 4\n",
        "print(f'Para todos os exemplos dos exercícios (1 a 6), usaremos vals = {vals} e num = {num}')\n",
        "\n",
        "print(f'Exercício 2: {exercicio_2(vals, num)}')\n",
        "print(f'Exercício 4: {exercicio_4(vals, num)}')\n",
        "print(f'Exercício 5: {exercicio_5(vals, num)}')\n",
        "print(f'Exercício 6: {exercicio_6(vals)}')\n",
        "\n",
        "lista_listas = [[2, 5],[4,6]]\n",
        "print(f'Exercício 7: \\n {exercicio_7(lista_listas)}')"
      ]
    },
    {
      "cell_type": "markdown",
      "metadata": {
        "id": "Rc20zpKZEAmk"
      },
      "source": [
        "## Desafios"
      ]
    },
    {
      "cell_type": "markdown",
      "metadata": {
        "id": "LMOJqL8DEAml"
      },
      "source": [
        "1. Dois amigos, que frequentaram sempre a mesma escola, são muito competitivos quando se trata de **notas**. Ambos estão ansiosos para saber quem foi melhor em qual bimestre escolar, e portanto gostariam de uma resposta o quanto antes. Para auxiliar nessa tarefa, crie uma função que receberá dois vetores como entrada, correspondendo às notas dos dois amigos. O sistema deve retornar:\n",
        "\n",
        "- A quantidade de vezes em que os dois alunos tiraram a mesma nota final\n",
        "- A média anual dos alunos.\n",
        "- A quantidade de bimestres que o aluno A tirou melhor nota que B.\n",
        "- O ano e bimestre que o aluno A teve a maior diferença absoluta em relação a B.\n",
        "\n",
        "Suponha que um vetor de entrada `nota_aluno_A` dessa função tenha o seguinte formato:\n",
        "\n",
        "`nota_aluno_A = np.array([7, 7.5, 6, 8.8, 9, 10, 9.5, 8])` onde cada valor representa uma nota em um bimestre. Os quatro primeiros valores representam a nota no primeiro ano. "
      ]
    },
    {
      "cell_type": "code",
      "execution_count": null,
      "metadata": {
        "id": "TEYjud-WEAml"
      },
      "outputs": [],
      "source": [
        "import numpy as np "
      ]
    },
    {
      "cell_type": "code",
      "execution_count": null,
      "metadata": {
        "id": "R1wFc7LoEAml"
      },
      "outputs": [],
      "source": [
        "nota_a = np.array([6.0, 7.0, 8.0, 6.0, 6.0, 7.0, 8.0, 6.0, 5.0, 3.5])\n",
        "\n",
        "nota_b = np.array([6.0, 7.0, 3.0, 6.0, 6.0, 5.0, 7.0, 6.0, 6.0, 8.5])"
      ]
    },
    {
      "cell_type": "code",
      "execution_count": null,
      "metadata": {
        "id": "HyEgj-hVEAml"
      },
      "outputs": [],
      "source": []
    },
    {
      "cell_type": "code",
      "execution_count": null,
      "metadata": {
        "id": "F5EaFvVpEAmm"
      },
      "outputs": [],
      "source": []
    },
    {
      "cell_type": "code",
      "execution_count": null,
      "metadata": {
        "id": "7oY2Cr3uEAmm"
      },
      "outputs": [],
      "source": []
    },
    {
      "cell_type": "markdown",
      "metadata": {
        "id": "ATehT3i7EAmm"
      },
      "source": [
        "2. Uma empresa de confecção de vergalhões está automatizando a esteira de produção e gostaria de aumentar o controle de qualidade de seus produtos. Para isto, devemos criar um sistema que avalie se o comprimento do vergalhão está dentro do padrão estabelecido pela empresa, que varia entre 1 e 4 metros. Produtos que não passam por este teste de qualidade são descartados e considerados reprovados. \n",
        "\n",
        "Crie uma código que gere duas listas, uma contendo apenas os produtos que passaram pelo teste de qualidade e outra contendo os produtos reprovados. No final, mostre na tela:\n",
        "\n",
        "- o percentual de produtos que passaram no teste.\n",
        "\n",
        "- o comprimento **mediano** dos produtos aprovados.\n",
        "\n",
        "- o comprimento máximo dos produtos reprovados.\n",
        "\n",
        "- a diferença entre o maior e o menor produto.\n",
        "\n",
        "Considere que existe um array Numpy `prods` contendo os comprimentos dos vergalhões, em metros. "
      ]
    },
    {
      "cell_type": "code",
      "execution_count": null,
      "metadata": {
        "id": "GO8HVoIeEAmm"
      },
      "outputs": [],
      "source": []
    },
    {
      "cell_type": "code",
      "execution_count": null,
      "metadata": {
        "id": "ZyQmCxjLEAmm"
      },
      "outputs": [],
      "source": []
    },
    {
      "cell_type": "markdown",
      "metadata": {
        "id": "3PRvyc17EAmm"
      },
      "source": [
        "3. No mercado financeiro, é comum verificar as variações de um ticker ao longo do dia. Crie um código que mostre a quantidade de vezes que esse ticker aumentou relativamente o seu valor. \n",
        "\n",
        "Considere que os últimos valores cotados deste papel estão contidos em uma lista com 24 valores. "
      ]
    },
    {
      "cell_type": "code",
      "execution_count": null,
      "metadata": {
        "id": "6c_V90uwEAmn"
      },
      "outputs": [],
      "source": []
    },
    {
      "cell_type": "code",
      "execution_count": null,
      "metadata": {
        "id": "paM7WutXEAmn"
      },
      "outputs": [],
      "source": []
    },
    {
      "cell_type": "markdown",
      "metadata": {
        "id": "Ak2pOpiNEAmn"
      },
      "source": [
        "4. Um jovem criou um jogo de cartas alternativo, chamado de Blackjack reverso. Neste jogo, desenvolvido para um total de 4 participadas, cada participante começa com a pontuação igual a 21 e, conforme cada um vai recebendo uma carta a cada rodada, o valor desta é subtraído de sua pontuação total. \n",
        "\n",
        "A última rodada acontecerá quando pelo menos uma pessoa obtiver a pontuação final negativa, e a pessoa vencedora será aquela que obtiver a menor pontuação possível. \n",
        "Crie um código para indicar o índice da pessoa que ganhou o jogo. \n",
        "\n",
        "Considere que as cartas estão armazenadas em uma variável do tipo `list`.\n",
        "\n",
        "OBS: os valores das cartas variam de 1 a 10.\n",
        "\n",
        "Exemplo de jogo:\n",
        "\n",
        "> cartas = [10, 5, 7, 8, 5, 3, 4, 3, 9, 8, 5, 10, 7, 6, 5]\n",
        "> \n",
        "> 1ª rodada\n",
        "> \n",
        "> Usuário 1: Tirou 10 = Pontuação 11\n",
        "> \n",
        "> Usuário 2: Tirou 5 = Pontuação 16\n",
        "> \n",
        "> Usuário 3: Tirou 7 = Pontuação 14\n",
        "> \n",
        "> Usuário 4: Tirou 8 = Pontuação 13\n",
        "> \n",
        "> 2ª rodada:\n",
        "> \n",
        "> Usuário 1: Tirou 5 = Pontuação 6\n",
        "> \n",
        "> Usuário 2: Tirou 3 = Pontuação 13\n",
        "> \n",
        "> Usuário 3: Tirou 4 = Pontuação 10\n",
        "> \n",
        "> Usuário 4: Tirou 3 = Pontuação 10\n",
        "> \n",
        "> 3ª rodada:\n",
        "> \n",
        "> Usuário 1: Tirou 9 = Pontuação -3 -> **ÚLTIMA RODADA** \n",
        "> \n",
        "> Usuário 2: Tirou 8 = Pontuação 5\n",
        "> \n",
        "> Usuário 3: Tirou 5 = Pontuação 5\n",
        "> \n",
        "> Usuário 4: Tirou 10 = Pontuação 0\n",
        "> \n",
        "> **Final**: Vencedor foi Usuário 1"
      ]
    },
    {
      "cell_type": "markdown",
      "metadata": {
        "id": "xtyijWB4EAmn"
      },
      "source": []
    }
  ],
  "metadata": {
    "kernelspec": {
      "display_name": "Python 3.10.4 64-bit",
      "language": "python",
      "name": "python3"
    },
    "language_info": {
      "codemirror_mode": {
        "name": "ipython",
        "version": 3
      },
      "file_extension": ".py",
      "mimetype": "text/x-python",
      "name": "python",
      "nbconvert_exporter": "python",
      "pygments_lexer": "ipython3",
      "version": "3.10.4 (tags/v3.10.4:9d38120, Mar 23 2022, 23:13:41) [MSC v.1929 64 bit (AMD64)]"
    },
    "orig_nbformat": 4,
    "vscode": {
      "interpreter": {
        "hash": "d044c6e0ce06759120adefce77398d00e1228e64d92f3f185fbd024a7701b8e0"
      }
    },
    "colab": {
      "provenance": []
    }
  },
  "nbformat": 4,
  "nbformat_minor": 0
}