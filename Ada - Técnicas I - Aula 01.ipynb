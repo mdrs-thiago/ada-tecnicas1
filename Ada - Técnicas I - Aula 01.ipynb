{
 "cells": [
  {
   "attachments": {},
   "cell_type": "markdown",
   "metadata": {},
   "source": [
    "# Ada - Data Journey \n",
    "\n",
    "Neste módulo, você será capaz de trabalhar em problemas básicos na área de dados utilizando `Numpy` e `Pandas`. \n",
    "\n",
    "Professor da disciplina: Thiago Medeiros."
   ]
  },
  {
   "attachments": {},
   "cell_type": "markdown",
   "metadata": {},
   "source": [
    "Algumas diretrizes importantes:\n",
    "\n",
    "- As aulas já estão disponíveis na pasta, mas podem sofrer alterações eventuais. Você pode acessar todas as aulas, mas esteja ciente que o notebook da aula no dia pode ter uma pequena modificação. \n",
    "\n",
    "- Para as primeiras aulas, teremos exercícios de fixação, exercícios **e** desafios, para as pessoas que quiserem continuar exercitando após a aula.\n",
    "\n",
    "- Os exercícios serão resolvidos em grupos.\n",
    "\n",
    "- A avaliação (qualitativa, basicamente) terá como base: participação em sala de aula, **participação nos grupos de exercícios**, alguns checkpoints pontuais e o **projeto final** do módulo, que será apresentado na quarta aula. "
   ]
  },
  {
   "attachments": {},
   "cell_type": "markdown",
   "metadata": {},
   "source": [
    "Antes de tratarmos sobre o assunto deste módulo, vamos sanar potenciais dúvidas (e dívidas) do módulo anterior. "
   ]
  },
  {
   "cell_type": "code",
   "execution_count": null,
   "metadata": {},
   "outputs": [],
   "source": []
  },
  {
   "cell_type": "code",
   "execution_count": null,
   "metadata": {},
   "outputs": [],
   "source": []
  },
  {
   "cell_type": "markdown",
   "metadata": {},
   "source": [
    "Problema básico do dia: Como podemos manipular informações numéricas em Python?"
   ]
  },
  {
   "cell_type": "markdown",
   "metadata": {},
   "source": [
    "Suponha que a gente tenha em mãos o histórico de uma informação muito importante, como o valor da taxa de câmbio de uma moeda. Até o presente momento, que tipo de variavel teríamos que usar para armazenar e fazer as análises dos valores históricos?"
   ]
  },
  {
   "cell_type": "markdown",
   "metadata": {},
   "source": [
    "Quão difícil isso pode ser? \n",
    "\n",
    "Tente fazer as seguintes operações: \n",
    "- O valor médio dos valores históricos.\n",
    "- A variância dos valores históricos.\n",
    "- A diferença da série (i.e. y(t) - y(t-1))"
   ]
  },
  {
   "cell_type": "code",
   "execution_count": null,
   "metadata": {},
   "outputs": [],
   "source": [
    "vals = [1584, 1656.5, 1629.8, 1712, 1647, 1736,\n",
    "       1681, 1757, 1689, 1730, 1697, 1809, 1789, 1840,\n",
    "       1867, 1930, 1865, 1885, 1914, 1932, 1894, 1891,\n",
    "       1965, 1946, 1939, 2061, 1962, 2296, 2029, 2080,\n",
    "       1974, 2083, 1949, 2007, 2090, 2081, 2117, 2149,\n",
    "       2105, 2326, 2050, 2140, 2342, 2163, 2207, 2239,\n",
    "       2236, 2343, 2290, 2380, 2350, 2538, 2416, 2397,\n",
    "       2564, 2407, 2562, 2407, 2403, 2592, 2507, 2501,\n",
    "       2448, 2619, 2626, 2694, 2476, 2548, 2540, 2486,\n",
    "       2523, 2638, 2485, 2733, 2555, 2753, 2654, 2643,\n",
    "       2797, 2692, 2655, 2518, 2710, 2767, 2741, 2907,\n",
    "       2787, 3018, 2936, 2711, 2870, 2985, 2945, 2884,\n",
    "       3038, 3028, 3053, 3197, 3082, 3430, 3157, 3274,\n",
    "       3113, 3225, 3020, 3104, 3217, 3174, 3207, 3241,\n",
    "       3181, 3581, 3345, 3301, 3550, 3258, 3320, 3291,\n",
    "       3171, 3501, 3443, 3367, 3408, 3528, 3636, 3476,\n",
    "       3717, 3555, 3547, 3609, 3530, 3844, 3704, 3808,\n",
    "       3701, 4090, 3865, 3954, 4107, 3917, 3934, 3713,\n",
    "       3871, 4103, 4125, 4290, 3982, 4425, 4240, 4059,\n",
    "       4204, 4256, 4268, 4050, 4291, 4276, 4272, 4440]"
   ]
  },
  {
   "cell_type": "code",
   "execution_count": null,
   "metadata": {},
   "outputs": [],
   "source": []
  },
  {
   "cell_type": "markdown",
   "metadata": {},
   "source": [
    "O NumPy (abreviação para Numerical Python) é uma poderosa biblioteca matemática para Python, sendo um dos cernes da computação científica em Python. A biblioteca realiza cálculos em cima de Arrays Multidimensionais (equivalente a vetores, matrizes e tensores na matemática), ou seja, listas de listas de listas de..., de forma eficiente, o que nos dá muita velocidade.\n",
    "\n",
    "Esta biblioteca está presente na maioria dos pacotes tradicionais que fazem uso de cálculo numérico, como `scikit-learn`. "
   ]
  },
  {
   "cell_type": "code",
   "execution_count": null,
   "metadata": {},
   "outputs": [],
   "source": []
  },
  {
   "cell_type": "markdown",
   "metadata": {},
   "source": [
    "## O que o Numpy é capaz de fazer?"
   ]
  },
  {
   "cell_type": "markdown",
   "metadata": {},
   "source": [
    "Como declarar um numpy array? "
   ]
  },
  {
   "cell_type": "code",
   "execution_count": null,
   "metadata": {},
   "outputs": [],
   "source": []
  },
  {
   "cell_type": "code",
   "execution_count": null,
   "metadata": {},
   "outputs": [],
   "source": []
  },
  {
   "cell_type": "markdown",
   "metadata": {},
   "source": [
    "O que o numpy array tem de tão especial? "
   ]
  },
  {
   "cell_type": "code",
   "execution_count": null,
   "metadata": {},
   "outputs": [],
   "source": []
  },
  {
   "cell_type": "code",
   "execution_count": null,
   "metadata": {},
   "outputs": [],
   "source": []
  },
  {
   "cell_type": "markdown",
   "metadata": {},
   "source": [
    "### Os diferentes tipos de numpy array"
   ]
  },
  {
   "attachments": {},
   "cell_type": "markdown",
   "metadata": {},
   "source": [
    "Um `np.array` não é necessariamente igual a uma lista. \n",
    "\n",
    "Uma das principais diferenças é que os elementos de um vetor devem ser do **mesmo** tipo."
   ]
  },
  {
   "attachments": {},
   "cell_type": "markdown",
   "metadata": {},
   "source": [
    "Exemplo: tente criar uma lista que contenha valores inteiros e uma string. Tente acessar o elemento numérico e veja qual é o tipo da variável. Por que isso acontece?"
   ]
  },
  {
   "cell_type": "code",
   "execution_count": null,
   "metadata": {},
   "outputs": [],
   "source": []
  },
  {
   "attachments": {},
   "cell_type": "markdown",
   "metadata": {},
   "source": [
    "Agora tente criar um vetor contendo inteiros e um valor float. Qual será o tipo do vetor neste caso? "
   ]
  },
  {
   "cell_type": "code",
   "execution_count": null,
   "metadata": {},
   "outputs": [],
   "source": []
  },
  {
   "cell_type": "code",
   "execution_count": null,
   "metadata": {},
   "outputs": [],
   "source": []
  },
  {
   "attachments": {},
   "cell_type": "markdown",
   "metadata": {},
   "source": [
    "Basicamente temos uma hierarquia de tipos de variáveis no Numpy. A imagem abaixo ajuda a ilustrar melhor como funciona. "
   ]
  },
  {
   "attachments": {
    "image.png": {
     "image/png": "[encoded data removed]"
    }
   },
   "cell_type": "markdown",
   "metadata": {},
   "source": [
    "![image.png](attachment:image.png)"
   ]
  },
  {
   "cell_type": "code",
   "execution_count": null,
   "metadata": {},
   "outputs": [],
   "source": []
  },
  {
   "attachments": {},
   "cell_type": "markdown",
   "metadata": {},
   "source": [
    "### Operações lógicas com Numpy"
   ]
  },
  {
   "attachments": {},
   "cell_type": "markdown",
   "metadata": {},
   "source": [
    "Existem inúmeras vantagens do Numpy para o dia-a-dia de quem trabalha na área de dados. \n",
    "\n",
    "Talvez uma das principais seja a facilidade para operações lógicas e aritméticas. "
   ]
  },
  {
   "attachments": {},
   "cell_type": "markdown",
   "metadata": {},
   "source": [
    "Neste primeiro momento, daremos uma atenção maior para operações lógicas."
   ]
  },
  {
   "cell_type": "code",
   "execution_count": null,
   "metadata": {},
   "outputs": [],
   "source": []
  },
  {
   "cell_type": "code",
   "execution_count": null,
   "metadata": {},
   "outputs": [],
   "source": []
  },
  {
   "cell_type": "code",
   "execution_count": null,
   "metadata": {},
   "outputs": [],
   "source": []
  },
  {
   "attachments": {},
   "cell_type": "markdown",
   "metadata": {},
   "source": [
    "### Indexing, slicing and masking."
   ]
  },
  {
   "attachments": {},
   "cell_type": "markdown",
   "metadata": {},
   "source": [
    "Sabemos como podemos acessar e gerar fatias com listas. Felizmente, para o `np.array` o procedimento é bem semelhante."
   ]
  },
  {
   "cell_type": "code",
   "execution_count": null,
   "metadata": {},
   "outputs": [],
   "source": []
  },
  {
   "cell_type": "code",
   "execution_count": null,
   "metadata": {},
   "outputs": [],
   "source": []
  },
  {
   "cell_type": "markdown",
   "metadata": {},
   "source": [
    "Inclusive de filtrar dados que gostaríamos de receber. "
   ]
  },
  {
   "cell_type": "code",
   "execution_count": null,
   "metadata": {},
   "outputs": [],
   "source": []
  },
  {
   "cell_type": "code",
   "execution_count": null,
   "metadata": {},
   "outputs": [],
   "source": []
  },
  {
   "attachments": {},
   "cell_type": "markdown",
   "metadata": {},
   "source": [
    "**Atenção** Ao alterar o pedaço da vetor recortado, você altera o objeto original! "
   ]
  },
  {
   "cell_type": "code",
   "execution_count": null,
   "metadata": {},
   "outputs": [],
   "source": [
    "my_vec = np.array([1,3,4,5])\n",
    "\n",
    "my_slice = my_vec[1:]"
   ]
  },
  {
   "cell_type": "code",
   "execution_count": null,
   "metadata": {},
   "outputs": [],
   "source": [
    "my_slice[0] = 100 \n",
    "\n",
    "print(my_slice)"
   ]
  },
  {
   "cell_type": "code",
   "execution_count": null,
   "metadata": {},
   "outputs": [],
   "source": [
    "#O que vai acontecer com my_vec?\n",
    "print(my_vec)"
   ]
  },
  {
   "cell_type": "markdown",
   "metadata": {},
   "source": [
    "E por que isso ocorre?"
   ]
  },
  {
   "cell_type": "code",
   "execution_count": null,
   "metadata": {},
   "outputs": [],
   "source": []
  },
  {
   "cell_type": "code",
   "execution_count": null,
   "metadata": {},
   "outputs": [],
   "source": []
  },
  {
   "cell_type": "code",
   "execution_count": null,
   "metadata": {},
   "outputs": [],
   "source": []
  },
  {
   "cell_type": "markdown",
   "metadata": {},
   "source": [
    "## Matemática com Numpy "
   ]
  },
  {
   "attachments": {},
   "cell_type": "markdown",
   "metadata": {},
   "source": [
    "O grande trunfo do Numpy é, sem dúvidas, o seu uso para cálculo, o que o torna uma ferramente importantíssima para qualquer pessoa que queira mexer com dados. \n",
    "\n",
    "Vamos supor dois vetores, `a` e `b`, de mesma dimensão. Podemos fazer todas as operações possíveis:\n",
    "\n",
    "- Soma ou subtração de vetores (`a + b`).\n",
    "- Multiplicação de vetores. (`a * b`)\n",
    "- Divisão de vetores. (`a / b`)\n",
    "\n",
    "O mesmo vale para matrizes e tensores (veremos na próxima aula!)."
   ]
  },
  {
   "cell_type": "code",
   "execution_count": null,
   "metadata": {},
   "outputs": [],
   "source": []
  },
  {
   "cell_type": "markdown",
   "metadata": {},
   "source": [
    "O que acontece se fizermos as seguintes operações?"
   ]
  },
  {
   "cell_type": "code",
   "execution_count": null,
   "metadata": {},
   "outputs": [],
   "source": [
    "my_vec = np.zeros(3) \n",
    "\n",
    "my_vec = my_vec + 3\n",
    "\n",
    "print(my_vec)"
   ]
  },
  {
   "cell_type": "code",
   "execution_count": null,
   "metadata": {},
   "outputs": [],
   "source": [
    "my_vec * 5"
   ]
  },
  {
   "cell_type": "code",
   "execution_count": null,
   "metadata": {},
   "outputs": [],
   "source": []
  },
  {
   "cell_type": "code",
   "execution_count": null,
   "metadata": {},
   "outputs": [],
   "source": []
  },
  {
   "cell_type": "markdown",
   "metadata": {},
   "source": [
    "Nas primeiras operações mostradas, falamos que as contas são feitas de forma `element-wise`. Isto é, o primeiro elemento do primeiro vetor realiza a operação com o primeiro elemento do segundo vetor, e assim segue. No segundo caso, o `numpy` compreende a operação que deve ser realizada (e.g. somar 5 em todos os elementos do vetor) e faz uma operação que chamamos de *stretch* \n",
    "\n",
    "![Exemplo de stretch](https://numpy.org/doc/stable/_images/broadcasting_1.png)"
   ]
  },
  {
   "attachments": {},
   "cell_type": "markdown",
   "metadata": {},
   "source": [
    "E funciona também com matrizes, sempre que for possível. Isso também veremos na próxima aula!\n",
    "\n",
    "![Exemplo](https://numpy.org/doc/stable/_images/broadcasting_2.png)"
   ]
  },
  {
   "cell_type": "code",
   "execution_count": null,
   "metadata": {},
   "outputs": [],
   "source": []
  },
  {
   "cell_type": "code",
   "execution_count": null,
   "metadata": {},
   "outputs": [],
   "source": []
  },
  {
   "cell_type": "code",
   "execution_count": null,
   "metadata": {},
   "outputs": [],
   "source": []
  },
  {
   "cell_type": "code",
   "execution_count": null,
   "metadata": {},
   "outputs": [],
   "source": []
  },
  {
   "cell_type": "markdown",
   "metadata": {},
   "source": [
    "O numpy tem uma quantidade enorme de \"artifícios\" para manipulação matemática. Basicamente todas as operações elementais estão presentes, assim como algumas operações vetoriais e matriciais. \n",
    "\n",
    "- Produto escalar `np.dot`\n",
    "\n",
    "- Produto vetorial `np.cross` \n",
    "\n",
    "- Multiplicação de matrizes `np.matmul` (próxima aula)\n",
    "\n",
    "- Valores máximos e mínimos `np.max`, `np.min`\n",
    "\n",
    "- Índices onde os valores são máximos `np.argmax` ou mínimos `np.argmin`. \n",
    "\n",
    "\n",
    "Dica pessoal: qualquer outra operação desejada para o uso em Python, pesquise na [documentação do Numpy](https://numpy.org/doc/stable/index.html)."
   ]
  },
  {
   "cell_type": "code",
   "execution_count": null,
   "metadata": {},
   "outputs": [],
   "source": []
  },
  {
   "attachments": {},
   "cell_type": "markdown",
   "metadata": {},
   "source": [
    "## Exercícios de fixação"
   ]
  },
  {
   "attachments": {},
   "cell_type": "markdown",
   "metadata": {},
   "source": [
    "1. Escreva um programa para criar um array Numpy e encontrar os índices de todos os elementos iguais a um valor específico.\n",
    "\n",
    "2. Escreva um programa para criar um array Numpy e extrair todos os elementos maiores que um valor específico usando slicing e masking.\n",
    "\n",
    "3. Escreva um programa para criar um array Numpy e usar indexação para extrair elementos em uma linha e coluna específicas.\n",
    "\n",
    "4. Escreva um programa para criar um array Numpy e calcular a soma de todos os elementos maiores que um valor específico.\n",
    "\n",
    "5. Escreva um programa que faça a soma de todos os elementos pares de um numpy array. \n",
    "\n",
    "6. Escreva um programa que readeque todos os valores de um array Numpy entre 0 e 5. Para isso, valores menores que 0 devem ser substituídos por 0, e valores maiores que 5 devem ser substituídas por 5.\n",
    "\n",
    "7. Faça um programa que cria uma lista de listas e transforme em Numpy."
   ]
  },
  {
   "cell_type": "code",
   "execution_count": null,
   "metadata": {},
   "outputs": [],
   "source": []
  },
  {
   "cell_type": "code",
   "execution_count": null,
   "metadata": {},
   "outputs": [],
   "source": []
  },
  {
   "cell_type": "markdown",
   "metadata": {},
   "source": [
    "## Exercícios"
   ]
  },
  {
   "cell_type": "markdown",
   "metadata": {},
   "source": [
    "1. Dois amigos, que frequentaram sempre a mesma escola, são muito competitivos quando se trata de **notas**. Ambos estão ansiosos para saber quem foi melhor em qual bimestre escolar, e portanto gostariam de uma resposta o quanto antes. Para auxiliar nessa tarefa, crie uma função que receberá dois vetores como entrada, correspondendo às notas dos dois amigos. O sistema deve retornar:\n",
    "\n",
    "- A quantidade de vezes em que os dois alunos tiraram a mesma nota final\n",
    "- A média anual dos alunos.\n",
    "- A quantidade de bimestres que o aluno A tirou melhor nota que B.\n",
    "- O ano e bimestre que o aluno A teve a maior diferença absoluta em relação a B.\n",
    "\n",
    "Suponha que um vetor de entrada `nota_aluno_A` dessa função tenha o seguinte formato:\n",
    "\n",
    "`nota_aluno_A = np.array([7, 7.5, 6, 8.8, 9, 10, 9.5, 8])` onde cada valor representa uma nota em um bimestre. Os quatro primeiros valores representam a nota no primeiro ano. "
   ]
  },
  {
   "cell_type": "code",
   "execution_count": null,
   "metadata": {},
   "outputs": [],
   "source": [
    "import numpy as np "
   ]
  },
  {
   "cell_type": "code",
   "execution_count": null,
   "metadata": {},
   "outputs": [],
   "source": [
    "nota_a = np.array([6.0, 7.0, 8.0, 6.0, 6.0, 7.0, 8.0, 6.0, 5.0, 3.5])\n",
    "\n",
    "nota_b = np.array([6.0, 7.0, 3.0, 6.0, 6.0, 5.0, 7.0, 6.0, 6.0, 8.5])"
   ]
  },
  {
   "cell_type": "code",
   "execution_count": null,
   "metadata": {},
   "outputs": [],
   "source": [
    "def get_anual_mean(nota):\n",
    "    nota_mod = np.append(nota, [0]*(4 - nota.shape[0]%4)) if nota.shape[0]%4 != 0 else nota\n",
    "    media_anual = np.array([np.mean(nota_mod[4*i:4*i+4]) for i in range(nota_mod.shape[0]//4)])\n",
    "    return media_anual\n",
    "\n",
    "def get_results(nota_a: any, nota_b):\n",
    "    \n",
    "    notas_iguais = np.sum(nota_a == nota_b)\n",
    "    anual_a = get_anual_mean(nota_a)\n",
    "    anual_b = get_anual_mean(nota_b)\n",
    "    melhor_a = np.sum(nota_a > nota_b)\n",
    "    abs_dif = abs(nota_a - nota_b)\n",
    "    idx_dif = np.argwhere(abs_dif == abs_dif.max()).flatten()\n",
    "    list_idx = [f'Ano {i//4 + 1} - {i%4 + 1}o Bimestre' for i in idx_dif]\n",
    "\n",
    "    return notas_iguais, (anual_a, anual_b), melhor_a, list_idx"
   ]
  },
  {
   "cell_type": "code",
   "execution_count": null,
   "metadata": {},
   "outputs": [],
   "source": [
    "res = get_results(nota_a, nota_b)"
   ]
  },
  {
   "cell_type": "code",
   "execution_count": null,
   "metadata": {},
   "outputs": [],
   "source": []
  },
  {
   "attachments": {},
   "cell_type": "markdown",
   "metadata": {},
   "source": [
    "2. Uma empresa de confecção de vergalhões está automatizando a esteira de produção e gostaria de aumentar o controle de qualidade de seus produtos. Para isto, devemos criar um sistema que avalie se o comprimento do vergalhão está dentro do padrão estabelecido pela empresa, que varia entre 1 e 4 metros. Produtos que não passam por este teste de qualidade são descartados e considerados reprovados. \n",
    "\n",
    "Crie uma código que gere duas listas, uma contendo apenas os produtos que passaram pelo teste de qualidade e outra contendo os produtos reprovados. No final, mostre na tela:\n",
    "\n",
    "- o percentual de produtos que passaram no teste.\n",
    "\n",
    "- o comprimento **mediano** dos produtos aprovados.\n",
    "\n",
    "- o comprimento máximo dos produtos reprovados.\n",
    "\n",
    "- a diferença entre o maior e o menor produto.\n",
    "\n",
    "Considere que existe um array Numpy `prods` contendo os comprimentos dos vergalhões, em metros. "
   ]
  },
  {
   "cell_type": "code",
   "execution_count": null,
   "metadata": {},
   "outputs": [],
   "source": []
  },
  {
   "cell_type": "code",
   "execution_count": null,
   "metadata": {},
   "outputs": [],
   "source": []
  },
  {
   "attachments": {},
   "cell_type": "markdown",
   "metadata": {},
   "source": [
    "3. No mercado financeiro, é comum verificar as variações de um ticker ao longo do dia. Crie um código que mostre a quantidade de vezes que esse ticker aumentou relativamente o seu valor. \n",
    "\n",
    "Considere que os últimos valores cotados deste papel estão contidos em uma lista com 24 valores. "
   ]
  },
  {
   "cell_type": "code",
   "execution_count": null,
   "metadata": {},
   "outputs": [],
   "source": []
  },
  {
   "cell_type": "code",
   "execution_count": null,
   "metadata": {},
   "outputs": [],
   "source": []
  },
  {
   "attachments": {},
   "cell_type": "markdown",
   "metadata": {},
   "source": [
    "4. Um jovem criou um jogo de cartas alternativo, chamado de Blackjack reverso. Neste jogo, desenvolvido para um total de 4 participadas, cada participante começa com a pontuação igual a 21 e, conforme cada um vai recebendo uma carta a cada rodada, o valor desta é subtraído de sua pontuação total. \n",
    "\n",
    "A última rodada acontecerá quando pelo menos uma pessoa obtiver a pontuação final negativa, e a pessoa vencedora será aquela que obtiver a menor pontuação possível. \n",
    "Crie um código para indicar o índice da pessoa que ganhou o jogo. \n",
    "\n",
    "Considere que as cartas estão armazenadas em uma variável do tipo `list`.\n",
    "\n",
    "OBS: os valores das cartas variam de 1 a 10.\n",
    "\n",
    "Exemplo de jogo:\n",
    "\n",
    "> cartas = [10, 5, 7, 8, 5, 3, 4, 3, 9, 8, 5, 10, 7, 6, 5]\n",
    "> \n",
    "> 1ª rodada\n",
    "> \n",
    "> Usuário 1: Tirou 10 = Pontuação 11\n",
    "> \n",
    "> Usuário 2: Tirou 5 = Pontuação 16\n",
    "> \n",
    "> Usuário 3: Tirou 7 = Pontuação 14\n",
    "> \n",
    "> Usuário 4: Tirou 8 = Pontuação 13\n",
    "> \n",
    "> 2ª rodada:\n",
    "> \n",
    "> Usuário 1: Tirou 5 = Pontuação 6\n",
    "> \n",
    "> Usuário 2: Tirou 3 = Pontuação 13\n",
    "> \n",
    "> Usuário 3: Tirou 4 = Pontuação 10\n",
    "> \n",
    "> Usuário 4: Tirou 3 = Pontuação 10\n",
    "> \n",
    "> 3ª rodada:\n",
    "> \n",
    "> Usuário 1: Tirou 9 = Pontuação -3 -> **ÚLTIMA RODADA** \n",
    "> \n",
    "> Usuário 2: Tirou 8 = Pontuação 5\n",
    "> \n",
    "> Usuário 3: Tirou 5 = Pontuação 5\n",
    "> \n",
    "> Usuário 4: Tirou 10 = Pontuação 0\n",
    "> \n",
    "> **Final**: Vencedor foi Usuário 1"
   ]
  },
  {
   "cell_type": "markdown",
   "metadata": {},
   "source": []
  }
 ],
 "metadata": {
  "kernelspec": {
   "display_name": "Python 3.10.4 64-bit",
   "language": "python",
   "name": "python3"
  },
  "language_info": {
   "codemirror_mode": {
    "name": "ipython",
    "version": 3
   },
   "file_extension": ".py",
   "mimetype": "text/x-python",
   "name": "python",
   "nbconvert_exporter": "python",
   "pygments_lexer": "ipython3",
   "version": "3.10.4 (tags/v3.10.4:9d38120, Mar 23 2022, 23:13:41) [MSC v.1929 64 bit (AMD64)]"
  },
  "orig_nbformat": 4,
  "vscode": {
   "interpreter": {
    "hash": "d044c6e0ce06759120adefce77398d00e1228e64d92f3f185fbd024a7701b8e0"
   }
  }
 },
 "nbformat": 4,
 "nbformat_minor": 2
}
