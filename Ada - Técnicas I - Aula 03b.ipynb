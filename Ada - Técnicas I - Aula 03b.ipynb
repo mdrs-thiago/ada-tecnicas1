{
 "cells": [
  {
   "cell_type": "markdown",
   "metadata": {},
   "source": [
    "# Como usar git (básico)"
   ]
  },
  {
   "cell_type": "markdown",
   "metadata": {},
   "source": [
    "## Instalando o Git"
   ]
  },
  {
   "cell_type": "markdown",
   "metadata": {},
   "source": [
    "Dependendo do Sistema Operacional, você deve seguir com a instalação do [Git](https://www.atlassian.com/git/tutorials/install-git#windows).\n",
    "\n",
    "Após a instalação, precisamos fazer a configuração. Para isso, usaremos o Terminal (Prompt de Comando).\n",
    "\n",
    "Comandos básicos:\n",
    "\n",
    "`git config --global user.name <nome>`\n",
    "\n",
    "`git config --global user.email <email>`"
   ]
  },
  {
   "cell_type": "markdown",
   "metadata": {},
   "source": [
    "## Criando o repositório "
   ]
  },
  {
   "cell_type": "markdown",
   "metadata": {},
   "source": [
    "Para criar o repositório, faremos o simples comando\n",
    "\n",
    "`git init` \n",
    "\n",
    "E se quisermos copiar de um repositório já existente, faremos o comando\n",
    "\n",
    "`git clone <url do repositório>`"
   ]
  },
  {
   "cell_type": "markdown",
   "metadata": {},
   "source": [
    "Se você **não** clonou um repositório existente e quiser conectar seu repositório a um remoto, você deve 'adicioná-lo' usando\n",
    "\n",
    "`git remote add origin <server>`"
   ]
  },
  {
   "cell_type": "markdown",
   "metadata": {},
   "source": [
    "## Organização do Git "
   ]
  },
  {
   "cell_type": "markdown",
   "metadata": {},
   "source": [
    "O Git mantém três 'árvores' para o seu repositório:\n",
    "\n",
    "- Workdir: contém todos os arquivos da pasta \n",
    "\n",
    "- Index: Área 'temporária' contendo os arquivos a serem adicionados (Stage) \n",
    "\n",
    "- HEAD: Área que aponta para o último `commit` realizado."
   ]
  },
  {
   "cell_type": "markdown",
   "metadata": {},
   "source": [
    "## Adicionando arquivos no repositório remoto. "
   ]
  },
  {
   "cell_type": "markdown",
   "metadata": {},
   "source": [
    "Naturalmente, você irá fazer alterações nos códigos, mas deverá atualizar no repositório remoto para que outras pessoas no projeto tenham acesso ao que foi feito. Para isso, você deve usar os seguintes comandos:\n",
    "\n",
    "`git add <nome do arquivo ou comando>`\n",
    "\n",
    "`git commit -m \"<comentário>\"` \n",
    "\n",
    "O primeiro comando irá adicionar os arquivos ao Index. Para confirmar as mudanças, usaremos o commit, adicionando sempre um comentário para as alterações realizadas. Entretanto, os arquivos ainda **não** foram enviados para o repositório remoto. Para adicionar essas alterações no repositório usamos o comando `push`, da forma\n",
    "\n",
    "`git push origin <branch>`.\n",
    "\n",
    "OBS: O branch principal de cada projeto é `main`."
   ]
  },
  {
   "cell_type": "markdown",
   "metadata": {},
   "source": [
    "### Ramificando o repositório"
   ]
  },
  {
   "cell_type": "markdown",
   "metadata": {},
   "source": [
    "Uma das grandes funcionalidades do Git é trabalhar com diversas ramificações e, em alguns casos, juntá-las à ramificação principal. Isso permite com que você crie novas funcionalidades e teste sem alterar a ramificação principal do projeto. Para criar um `branch`, usaremos o seguinte comando:\n",
    "\n",
    "`git checkout -b <nome do branch>`\n",
    "\n",
    "Para mudar entre branchs já existentes, usamos apenas \n",
    "\n",
    "`git checkout <nome do branch>`\n",
    "\n",
    "E para **excluir**, usamos \n",
    "\n",
    "`git checkout -d <nome do branch>`\n"
   ]
  },
  {
   "cell_type": "markdown",
   "metadata": {},
   "source": [
    "Essas ramificações estão disponível, no primeiro momento, **apenas** localmente. Para atualizar no repositório remoto, faremos os seguintes comandos (após adicionar e usar commit nas alterações do branch)\n",
    "\n",
    "`git push <nome do branch>` OU `git push origin <nome do branch>`"
   ]
  },
  {
   "cell_type": "markdown",
   "metadata": {},
   "source": [
    "Para atualizar o repositório local com a última atualização remota (isto é, 'sincronizar' o repositório local com o remoto), usamos \n",
    "\n",
    "`git pull`\n",
    "\n",
    "E para juntar o branch ativo com outro já existente, devemos usar o comando `merge`, da seguinte forma \n",
    "\n",
    "`git merge <branch>`."
   ]
  },
  {
   "cell_type": "markdown",
   "metadata": {},
   "source": [
    "Se **tudo** estiver correto (o que é bem difícil), a mescla é feita rapidamente. Contudo, existem alguns confiltos por conta da atualização de arquivos, levando a uma indecisão sobre qual versão usar (o remote ou o teu local?). Para contornar esses problemas, devemos resolver esses conflitos manualmente. Alterando os arquivos com conflito, devemos adicioná-los usando `git add <arquivos>` e `git commit`"
   ]
  },
  {
   "cell_type": "code",
   "execution_count": null,
   "metadata": {},
   "outputs": [],
   "source": []
  }
 ],
 "metadata": {
  "kernelspec": {
   "display_name": "Python 3.10.4 64-bit",
   "language": "python",
   "name": "python3"
  },
  "language_info": {
   "name": "python",
   "version": "3.10.4"
  },
  "orig_nbformat": 4,
  "vscode": {
   "interpreter": {
    "hash": "d044c6e0ce06759120adefce77398d00e1228e64d92f3f185fbd024a7701b8e0"
   }
  }
 },
 "nbformat": 4,
 "nbformat_minor": 2
}
