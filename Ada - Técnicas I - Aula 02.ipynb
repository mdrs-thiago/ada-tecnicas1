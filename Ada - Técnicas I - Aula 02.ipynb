{
 "cells": [
  {
   "cell_type": "code",
   "execution_count": null,
   "metadata": {},
   "outputs": [],
   "source": []
  },
  {
   "cell_type": "markdown",
   "metadata": {},
   "source": [
    "Sem o uso de numpy, como podemos declarar uma matriz? E como podemos acessar qualquer valor desta? "
   ]
  },
  {
   "cell_type": "code",
   "execution_count": null,
   "metadata": {},
   "outputs": [],
   "source": []
  },
  {
   "cell_type": "markdown",
   "metadata": {},
   "source": [
    "Com o uso de numpy, é muito mais simples"
   ]
  },
  {
   "cell_type": "code",
   "execution_count": null,
   "metadata": {},
   "outputs": [],
   "source": []
  },
  {
   "cell_type": "markdown",
   "metadata": {},
   "source": [
    "### Criação de matrizes e vetores"
   ]
  },
  {
   "cell_type": "markdown",
   "metadata": {},
   "source": [
    "Podemos criar matrizes e vetores de diferentes formas.\n",
    "\n",
    "- Constante (zeros, ones, etc).\n",
    "\n",
    "- Com ordenação.\n",
    "\n",
    "- Aleatória."
   ]
  },
  {
   "cell_type": "markdown",
   "metadata": {},
   "source": [
    "#### Constante "
   ]
  },
  {
   "cell_type": "markdown",
   "metadata": {},
   "source": [
    "Temos diferentes métodos:\n",
    "\n",
    "- Zeros (preenche apenas com 0's)\n",
    "\n",
    "- Ones (preenche apenas com 1's)\n",
    "\n",
    "- Full (preenche apenas com o valor estipulado)"
   ]
  },
  {
   "cell_type": "code",
   "execution_count": null,
   "metadata": {},
   "outputs": [],
   "source": []
  },
  {
   "cell_type": "code",
   "execution_count": null,
   "metadata": {},
   "outputs": [],
   "source": []
  },
  {
   "cell_type": "markdown",
   "metadata": {},
   "source": [
    "### Ordenado"
   ]
  },
  {
   "cell_type": "markdown",
   "metadata": {},
   "source": [
    "Temos alguns exemplos:\n",
    "\n",
    "- `np.repeat`\n",
    "\n",
    "- `np.arange`\n",
    "\n",
    "- `np.linspace`"
   ]
  },
  {
   "cell_type": "markdown",
   "metadata": {},
   "source": []
  },
  {
   "cell_type": "code",
   "execution_count": null,
   "metadata": {},
   "outputs": [],
   "source": []
  },
  {
   "cell_type": "markdown",
   "metadata": {},
   "source": [
    "### Aleatório"
   ]
  },
  {
   "cell_type": "markdown",
   "metadata": {},
   "source": [
    "Podemos usar de um jeito semelhante ao que fazemos geralmente com a ferramenta random. \n",
    "\n",
    "- `np.random.rand`\n",
    "\n",
    "- `np.random.randint` \n",
    "\n",
    "- `np.random.choice`"
   ]
  },
  {
   "cell_type": "code",
   "execution_count": null,
   "metadata": {},
   "outputs": [],
   "source": []
  },
  {
   "cell_type": "code",
   "execution_count": null,
   "metadata": {},
   "outputs": [],
   "source": []
  },
  {
   "attachments": {},
   "cell_type": "markdown",
   "metadata": {},
   "source": [
    "### Shapes, reshapes e resizes"
   ]
  },
  {
   "attachments": {},
   "cell_type": "markdown",
   "metadata": {},
   "source": [
    "Na prática, precisamos mudar frequentemente o formato dos dados apresentados em um `np.ndarray`, tanto em seus valores como também em suas dimensões. \n",
    "\n",
    "Considere, por exemplo, um problema que armazenamos uma informação de mercado em três dimensões, onde a primeira dimensão contém os valores em cada um dos dias, a segunda dimensão contém os produtos e a terceira dimensão está relacionado com o departamento do mercado. \n",
    "\n",
    "Queremos transformar este **tensor** para que tenha apenas duas dimensões, sendo a primeira contendo os valores em cada um dos dias, e a segunda dimensão contendo todos os produtos, independentemente do departamento. Como faremos isso? "
   ]
  },
  {
   "cell_type": "code",
   "execution_count": null,
   "metadata": {},
   "outputs": [],
   "source": []
  },
  {
   "cell_type": "code",
   "execution_count": null,
   "metadata": {},
   "outputs": [],
   "source": []
  },
  {
   "attachments": {},
   "cell_type": "markdown",
   "metadata": {},
   "source": [
    "## Exercícios de fixação"
   ]
  },
  {
   "attachments": {},
   "cell_type": "markdown",
   "metadata": {},
   "source": [
    "1. Escreva um programa para criar um array Numpy com 10 números aleatórios e ordená-los de forma crescente.\n",
    "\n",
    "2. Escreva um programa para realizar soma e subtração elemento a elemento entre dois arrays Numpy com o mesmo tamanho.\n",
    "\n",
    "3. Escreva um programa para calcular o produto escalar entre dois arrays Numpy.\n",
    "\n",
    "4. Escreva um programa para criar um array Numpy com os valores de 0 a 9 e mudar a forma para uma matriz 3x3.\n",
    "\n",
    "5. Escreva um programa para extrair todos os números pares de um array Numpy e armazená-los em um novo array Numpy.\n",
    "\n",
    "6. Escreva um programa para criar um array Numpy com os valores de 1 a 10 e calcular a soma acumulada dos elementos.\n",
    "\n",
    "7. Escreva um programa para calcular a média e o desvio padrão de um array Numpy ao longo de um eixo específico.\n",
    "\n",
    "8. Escreva um programo para criar um array Numpy com os valores de 1 a 5 e repetir os valores 3 vezes ao longo do primeiro eixo.\n",
    "\n",
    "9. Escreva um programa para realizar comparações elemento a elemento entre dois arrays Numpy e retornar um array Numpy Booleano com os resultados.\n",
    "\n",
    "10. Escreva um programa para criar um array Numpy com os valores de 1 a 10 e substituir todos os números ímpares por -1."
   ]
  },
  {
   "cell_type": "code",
   "execution_count": null,
   "metadata": {},
   "outputs": [],
   "source": []
  },
  {
   "attachments": {},
   "cell_type": "markdown",
   "metadata": {},
   "source": [
    "## Exercício"
   ]
  },
  {
   "attachments": {},
   "cell_type": "markdown",
   "metadata": {},
   "source": [
    "1. Considere que você esteja trabalhando em uma equipe de metereologia e queira fazer uma análise de chuvas em diferentes regiões de um estado do Brasil. Cada região é representada por 4 bairros, com informações armazenadas de precipicação diária, totalizando 8 regiões.\n",
    "\n",
    "Um analista da empresa carregou todas as bases de precipitação (primeiro eixo contendo as precipitações diárias em um mês e o segundo eixo os bairros), concatenando estas informações em um novo eixo (i.e. terceiro eixo contém as regiões). \n",
    "\n",
    "a) Gere uma função que calcule a precipitação média diária para cada uma das 8 regiões.\n",
    "b) Gere uma função que também calcule a precipitação média diária no estado.\n",
    "c) Gere uma função que diga o bairro e a região que contém a maior precipitação mensal (ou seja, indique apenas o índice do bairro e o índice da região)."
   ]
  },
  {
   "cell_type": "code",
   "execution_count": null,
   "metadata": {},
   "outputs": [],
   "source": []
  },
  {
   "cell_type": "markdown",
   "metadata": {},
   "source": [
    "2. Você recebeu informações de todos os clientes de uma academia. Com o objetivo de verificar a saúde e obter novas informações sobre essas pessoas, você foi encarregado de criar um sistema que extraia algumas informações para a orientação de novas atividades da academia. Para isso, crie um sistema que extraia as seguintes informações:\n",
    "\n",
    "- O cálculo do Índice de Massa Corpórea (IMC) de cada pessoa.\n",
    "- A quantidade e proporção de clientes em cada grupo, de acordo com o IMC.\n",
    "- A quantidade de pessoas acima de 90 kg **e** abaixo de 1.70 m."
   ]
  },
  {
   "cell_type": "code",
   "execution_count": null,
   "metadata": {},
   "outputs": [],
   "source": [
    "lista_imc = [[1.788810693, 65.64810194, 0],\n",
    "[1.566784434, 76.64276798, 0],\n",
    "[2.092193055, 55.46818533, 1],\n",
    "[1.782470917, 67.28199736, 1],\n",
    "[1.735766977, 69.28900763, 0],\n",
    "[1.686974648, 56.84005114, 0],\n",
    "[1.797104633, 65.20897328, 1],\n",
    "[1.187349055, 48.16476395, 0],\n",
    "[1.595891436, 45.41064814, 1],\n",
    "[1.396281776, 67.93011334, 0],\n",
    "[1.606148165, 67.71960410, 0],\n",
    "[1.707589967, 45.60933262, 0],\n",
    "[1.735513116, 64.84545151, 0],\n",
    "[1.672055182, 39.70595150, 1],\n",
    "[1.723377069, 50.05888021, 1],\n",
    "[1.684574272, 56.54508738, 1],\n",
    "[1.733258930, 37.51218759, 0],\n",
    "[1.757899659, 57.36242239, 0],\n",
    "[1.913337705, 69.30724639, 1],\n",
    "[1.456048343, 69.34233711, 0]]"
   ]
  },
  {
   "cell_type": "code",
   "execution_count": null,
   "metadata": {},
   "outputs": [],
   "source": []
  },
  {
   "cell_type": "markdown",
   "metadata": {},
   "source": [
    "3. Hoje em dia, o MIC é visto como um método \"ultrapassado\", surgindo novas alternativas como o Índice de Adiposidade Corporal (IAC), que usa a medida da cintura para o cálculo. Crie uma nova função que calcule o IAC e extraia as estatísticas semelhantes ao que foi anunciado para o IMC. Em seguida, crie uma nova função (que utiliza as duas já criadas anteriormente) para verificar se existe uma certa correspondência entre os dois métodos."
   ]
  },
  {
   "attachments": {},
   "cell_type": "markdown",
   "metadata": {},
   "source": [
    "## Desafios"
   ]
  },
  {
   "attachments": {},
   "cell_type": "markdown",
   "metadata": {},
   "source": [
    "1. Sudoku é um jogo de lógica muito popular. Segundo [fonte](https://pt.wikipedia.org/wiki/Sudoku), o objetivo do jogo é a colocação de números de 1 a 9 em cada uma das células vazias numa grade de 9x9, constituída por 3x3 subgrades chamadas regiões. Um jogo é válido apenas se tiver um número distinto (de 1 a 9) em cada linha, coluna ou região. \n",
    "\n",
    "Crie uma função que verifique se o jogo é válido ou não. Para isso, a função deve receber como argumento de entrada uma matriz 9 x 9 e obrigatoriamente retornar um `bool`, onde `True` significa que o jogo é válido e `False` como inválido. \n",
    "\n",
    "**Extra**: Caso a função retorne `False`, retorne também uma matriz de posições indicando quais células invalidaram o jogo."
   ]
  },
  {
   "cell_type": "code",
   "execution_count": null,
   "metadata": {},
   "outputs": [],
   "source": []
  },
  {
   "cell_type": "code",
   "execution_count": null,
   "metadata": {},
   "outputs": [],
   "source": []
  },
  {
   "attachments": {},
   "cell_type": "markdown",
   "metadata": {},
   "source": [
    "2. A área de processamento de imagens demanda um grande conhecimento sobre matrizes e cálculos matriciais. Por exemplo, podemos pensar em uma imagem como uma grande matriz de pixels, onde cada valor desta matriz representa a intensidade de cor. \n",
    "Geralmente as imagens estão presentes no espaço de cores **RGB**, e as informações armazenadas são, na verdade, contidas em um tensor com três dimensões (H x W x C). \n",
    "\n",
    "Em processamento de imagens, podemos fazer uso desse conhecimento para transformação de imagens (ou edição). Para isso, faça o que se pede a seguir:\n",
    "\n",
    "- Crie uma função que converta uma imagem RGB em escala de cinza. Procure na Internet a formulação matemática e realize tal procedimento. \n",
    "\n",
    "- Pesquise sobre transformações de imagem (e.g. gamma correction) e implemente uma destas funções.\n",
    "\n"
   ]
  },
  {
   "attachments": {},
   "cell_type": "markdown",
   "metadata": {},
   "source": []
  },
  {
   "cell_type": "markdown",
   "metadata": {},
   "source": []
  },
  {
   "cell_type": "markdown",
   "metadata": {},
   "source": []
  }
 ],
 "metadata": {
  "kernelspec": {
   "display_name": "Python 3.10.4 64-bit",
   "language": "python",
   "name": "python3"
  },
  "language_info": {
   "name": "python",
   "version": "3.10.4 (tags/v3.10.4:9d38120, Mar 23 2022, 23:13:41) [MSC v.1929 64 bit (AMD64)]"
  },
  "orig_nbformat": 4,
  "vscode": {
   "interpreter": {
    "hash": "d044c6e0ce06759120adefce77398d00e1228e64d92f3f185fbd024a7701b8e0"
   }
  }
 },
 "nbformat": 4,
 "nbformat_minor": 2
}
