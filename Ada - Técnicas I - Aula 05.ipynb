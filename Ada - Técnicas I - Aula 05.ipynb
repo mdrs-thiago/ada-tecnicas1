{
 "cells": [
  {
   "cell_type": "markdown",
   "metadata": {},
   "source": [
    "# Ada - Técnicas de Programação I - Aula 5"
   ]
  },
  {
   "cell_type": "code",
   "execution_count": null,
   "metadata": {},
   "outputs": [],
   "source": [
    "import pandas as pd \n",
    "import numpy as np \n",
    "\n",
    "df = pd.read_csv('https://raw.githubusercontent.com/mdrs-thiago/uerj-topicos-a/main/datasets/bank_marketing/class_bank_marketing.csv')"
   ]
  },
  {
   "cell_type": "markdown",
   "metadata": {},
   "source": [
    "`Bank Marketing` é o dataset para a avaliação de análise de marketing para uma empresa bancária. Este problema contém informações importantes sobre pessoas que foram contactadas pela empresa de marketing, assim como a situação final (aceitou/rejeitou)."
   ]
  },
  {
   "cell_type": "code",
   "execution_count": null,
   "metadata": {},
   "outputs": [],
   "source": [
    "df.head()"
   ]
  },
  {
   "cell_type": "markdown",
   "metadata": {},
   "source": [
    "## Sumário e algumas operações com DataFrame"
   ]
  },
  {
   "cell_type": "markdown",
   "metadata": {},
   "source": [
    "O `pandas` possui algumas funcionalidades básicas. Por exemplo, podemos usar:\n",
    "\n",
    "- `describe` \n",
    "\n",
    "- operações como `mean`.\n",
    "\n",
    "- Valores únicos `unique`\n",
    "\n",
    "- Contagem de valores `value_counts`"
   ]
  },
  {
   "cell_type": "code",
   "execution_count": null,
   "metadata": {},
   "outputs": [],
   "source": []
  },
  {
   "cell_type": "code",
   "execution_count": null,
   "metadata": {},
   "outputs": [],
   "source": []
  },
  {
   "cell_type": "markdown",
   "metadata": {},
   "source": [
    "## Alteração de conteúdo de colunas"
   ]
  },
  {
   "cell_type": "markdown",
   "metadata": {},
   "source": [
    "Podemos alterar a informação de alguma coluna do nosso `DataFrame` usando algumas funções especiais. \n",
    "\n",
    "Neste caso, vamos aprender a usar a função `map`"
   ]
  },
  {
   "cell_type": "markdown",
   "metadata": {},
   "source": [
    "Seu uso é **muito** parecido com o `map` que vimos no módulo anterior."
   ]
  },
  {
   "cell_type": "code",
   "execution_count": null,
   "metadata": {},
   "outputs": [],
   "source": [
    "#O que faz o map que aprendemos anteriormente?"
   ]
  },
  {
   "cell_type": "code",
   "execution_count": null,
   "metadata": {},
   "outputs": [],
   "source": [
    "#Vamos normalizar a duração das chamadas. Vamos utilizar o valor mínimo como 0 \n",
    "# e o máximo como 200. \n",
    "df_duration = df['duration']\n",
    "\n",
    "df_duration.map(lambda x: x/200)"
   ]
  },
  {
   "cell_type": "markdown",
   "metadata": {},
   "source": [
    "Também temos uma outra estratégia para fazer essa modificação, que é usando o `apply`. A ideia é muito parecida com o `map`"
   ]
  },
  {
   "cell_type": "code",
   "execution_count": null,
   "metadata": {},
   "outputs": [],
   "source": [
    "def normalize_duration(row):\n",
    "    row['duration'] = row['duration']/200\n",
    "    return row\n",
    "\n",
    "df.apply(normalize_duration, axis='columns')"
   ]
  },
  {
   "cell_type": "markdown",
   "metadata": {},
   "source": []
  },
  {
   "cell_type": "markdown",
   "metadata": {},
   "source": [
    "E qual é a diferença entre os dois? "
   ]
  },
  {
   "cell_type": "markdown",
   "metadata": {},
   "source": [
    "Perceba que o `map` funciona **apenas** em um `pd.Series`, enquanto que o apply é feito em cima de um `pd.DataFrame`. "
   ]
  },
  {
   "cell_type": "markdown",
   "metadata": {},
   "source": []
  },
  {
   "cell_type": "markdown",
   "metadata": {},
   "source": [
    "Podemos também fazer uma modificação **direta** nos elementos, da mesma forma que criamos uma nova coluna ou fazemos a alteração direta. "
   ]
  },
  {
   "cell_type": "code",
   "execution_count": null,
   "metadata": {},
   "outputs": [],
   "source": [
    "new_df = df.copy() \n",
    "\n",
    "new_df.duration = new_df.duration/200\n",
    "\n",
    "new_df"
   ]
  },
  {
   "cell_type": "code",
   "execution_count": null,
   "metadata": {},
   "outputs": [],
   "source": [
    "new_df['day'] + '-' + new_df['month']"
   ]
  },
  {
   "cell_type": "code",
   "execution_count": null,
   "metadata": {},
   "outputs": [],
   "source": [
    "#Como contornar? Podemos declarar explicitamente o tipo de cada variável.\n",
    "new_df['day'].astype(str) + '-' + new_df['month']"
   ]
  },
  {
   "cell_type": "markdown",
   "metadata": {},
   "source": [
    "## Agrupamento e ordenação"
   ]
  },
  {
   "cell_type": "markdown",
   "metadata": {},
   "source": [
    "Em alguns casos, queremos ver os dados de forma ordenada, por diferentes formas:\n",
    "\n",
    "- ordem numérica. \n",
    "\n",
    "- ordem alfabética. \n",
    "\n",
    "- ordem de data.\n",
    "\n",
    "Para isso, usamos o método `sort_values`"
   ]
  },
  {
   "cell_type": "markdown",
   "metadata": {},
   "source": [
    "Parâmetros de `sort_values`:\n",
    "- `by` nome ou lista de nomes para serem ordenados.\n",
    "- `ascending` booleano para indicar se a ordem será crescente. \n",
    "- `kind` tipo de algoritmo para *sorting*. \n"
   ]
  },
  {
   "cell_type": "code",
   "execution_count": null,
   "metadata": {},
   "outputs": [],
   "source": [
    "df.sort_values(by='balance')"
   ]
  },
  {
   "cell_type": "code",
   "execution_count": null,
   "metadata": {},
   "outputs": [],
   "source": []
  },
  {
   "cell_type": "markdown",
   "metadata": {},
   "source": [
    "### Agrupamento "
   ]
  },
  {
   "cell_type": "markdown",
   "metadata": {},
   "source": [
    "A ideia é muito parecida com o que fazemos usualmente em SQL. Nesse caso, queremos agrupar dados de uma(s) certa(s) coluna(s) para obter uma visualização agregada dos resultados. \n",
    "\n",
    "Para realizar este agrupamento, usaremos o método `groupby`. \n",
    "\n",
    "Seu uso é simples, e um tanto quanto parecido com o `sort_values`.\n",
    "\n",
    "Parâmetro mais usado: `by`."
   ]
  },
  {
   "cell_type": "code",
   "execution_count": null,
   "metadata": {},
   "outputs": [],
   "source": [
    "df.head()"
   ]
  },
  {
   "cell_type": "code",
   "execution_count": null,
   "metadata": {},
   "outputs": [],
   "source": [
    "#Vamos ver o valor médio (balance) em função do tipo de trabalho da pessoa. \n",
    "df.groupby('job')"
   ]
  },
  {
   "cell_type": "code",
   "execution_count": null,
   "metadata": {},
   "outputs": [],
   "source": [
    "df.groupby('job').balance.mean()"
   ]
  },
  {
   "cell_type": "code",
   "execution_count": null,
   "metadata": {},
   "outputs": [],
   "source": [
    "df.groupby(['job','education']).balance.mean()"
   ]
  },
  {
   "cell_type": "markdown",
   "metadata": {},
   "source": [
    "Legal, dados agregados... mas como podemos agregar dados? E o que fazer? Temos aqui duas formas distintas:\n",
    "\n",
    "- usando `agg`. Neste caso, é uma função que realiza para a gente as operações mais básicas de agregação, como `min`, `max`, `mean`.\n",
    "\n",
    "- usando `apply`. Método semelhante ao que vimos anteriormente, que servirá para aplicar as transformações nos dados. "
   ]
  },
  {
   "cell_type": "code",
   "execution_count": null,
   "metadata": {},
   "outputs": [],
   "source": [
    "#Vamos pegar informações sobre a pessoa com maior balance, \n",
    "# agrupado pela profissão e educação.\n",
    "\n",
    "df.groupby(['job','education']).apply(lambda df: df.loc[df.duration.idxmax()])"
   ]
  },
  {
   "cell_type": "code",
   "execution_count": null,
   "metadata": {},
   "outputs": [],
   "source": [
    "new_df = df.groupby(['job','education']).apply(lambda df: df.loc[df.duration.idxmax()])"
   ]
  },
  {
   "cell_type": "code",
   "execution_count": null,
   "metadata": {},
   "outputs": [],
   "source": [
    "new_df.drop(columns=['job','education'], inplace=True)"
   ]
  },
  {
   "cell_type": "code",
   "execution_count": null,
   "metadata": {},
   "outputs": [],
   "source": [
    "new_df.reset_index()"
   ]
  },
  {
   "cell_type": "markdown",
   "metadata": {},
   "source": [
    "## Exercício"
   ]
  },
  {
   "cell_type": "markdown",
   "metadata": {},
   "source": [
    "Neste exercício, você extrairá informações importantes para a análise de uma rede hoteleira. Neste caso, você trabalhará com a base de dados `Occupancy detection`. Este dataset contém informações de sensores de diferentes quartos do hotel, com o objetivo de identificar a presença do hóspede utilizando apenas os dados aquisitados por estes dispositivos. \n",
    "\n",
    "Faça análises na base de dados para descrever o que pode ser importante para determinar se uma pessoa está presente ou não em um quarto. \n",
    "\n",
    "Transforme as datas para o formato `dd-mm-yyyy` e gere informações agregadas para cada um dos dias existentes.\n",
    "\n",
    "Gere também outras análises que sejam pertinentes ao problema. "
   ]
  },
  {
   "cell_type": "code",
   "execution_count": null,
   "metadata": {},
   "outputs": [],
   "source": [
    "df = pd.read_csv('https://raw.githubusercontent.com/mdrs-thiago/uerj-topicos-a/main/datasets/occupancy_detection/class_occupancy_detection.csv')"
   ]
  },
  {
   "cell_type": "code",
   "execution_count": null,
   "metadata": {},
   "outputs": [],
   "source": [
    "df.tail()"
   ]
  },
  {
   "cell_type": "code",
   "execution_count": null,
   "metadata": {},
   "outputs": [],
   "source": []
  }
 ],
 "metadata": {
  "kernelspec": {
   "display_name": "Python 3.10.4 64-bit",
   "language": "python",
   "name": "python3"
  },
  "language_info": {
   "codemirror_mode": {
    "name": "ipython",
    "version": 3
   },
   "file_extension": ".py",
   "mimetype": "text/x-python",
   "name": "python",
   "nbconvert_exporter": "python",
   "pygments_lexer": "ipython3",
   "version": "3.10.4"
  },
  "orig_nbformat": 4,
  "vscode": {
   "interpreter": {
    "hash": "d044c6e0ce06759120adefce77398d00e1228e64d92f3f185fbd024a7701b8e0"
   }
  }
 },
 "nbformat": 4,
 "nbformat_minor": 2
}
