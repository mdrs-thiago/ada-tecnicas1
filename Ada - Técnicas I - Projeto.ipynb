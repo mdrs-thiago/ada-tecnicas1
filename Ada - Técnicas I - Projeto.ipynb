{
 "cells": [
  {
   "attachments": {},
   "cell_type": "markdown",
   "metadata": {},
   "source": [
    "## Ada - Técnicas I\n",
    "\n",
    "### Projeto Final da disciplina"
   ]
  },
  {
   "attachments": {},
   "cell_type": "markdown",
   "metadata": {},
   "source": [
    "#### Sobre o projeto"
   ]
  },
  {
   "attachments": {},
   "cell_type": "markdown",
   "metadata": {},
   "source": [
    "Uma das características mais valiosas atualmente é conseguir extrair informações importantes de um volume considerável de dados. Não importa qual seja a área de atuação profissional (fármacos, telefonia, streaming), quase sempre podemos usar a análise de dados para gerar novos insights e gerar valor para o negócio.\n",
    "\n",
    "Para o projeto final, você deverá demonstrar o conhecimento técnico de duas ferramentas importantes para análise de dados, `numpy` e `pandas`.\n",
    "\n",
    "O trabalho deverá ser feito em grupo (divisão a ser definida). "
   ]
  },
  {
   "attachments": {},
   "cell_type": "markdown",
   "metadata": {},
   "source": [
    "#### Sobre o critério de avaliação"
   ]
  },
  {
   "attachments": {},
   "cell_type": "markdown",
   "metadata": {},
   "source": [
    "Para o projeto final, serão avaliados os seguintes aspectos:\n",
    "\n",
    "- Domínio técnico de `numpy` e `pandas` (individual)\n",
    "\n",
    "- Participação e divisão do trabalho (em grupo)\n",
    "\n",
    "- Organização do versionamento do projeto (em grupo)"
   ]
  },
  {
   "attachments": {},
   "cell_type": "markdown",
   "metadata": {},
   "source": [
    "#### Sobre a escolha do dataset"
   ]
  },
  {
   "attachments": {},
   "cell_type": "markdown",
   "metadata": {},
   "source": [
    "A base de dados é de livre escolha do grupo. Caso possível, recomendo que o dataset seja do trabalho/atividade dos membros do grupo. De qualquer modo, listo alguns projetos que são bem interessantes para trabalhar conceitos de análise de dados:\n",
    "\n",
    "- [Filmes e séries - Netflix](https://www.kaggle.com/datasets/shivamb/netflix-shows)\n",
    "\n",
    "- [Histórico de jogos da Copa do Mundo](https://www.kaggle.com/datasets/abecklas/fifa-world-cup)\n",
    "\n",
    "- [Empresas unicórnio](https://www.kaggle.com/datasets/deepcontractor/unicorn-companies-dataset)\n",
    "\n",
    "- [Histórico de layoffs](https://www.kaggle.com/datasets/theakhilb/layoffs-data-2022)"
   ]
  },
  {
   "cell_type": "code",
   "execution_count": null,
   "metadata": {},
   "outputs": [],
   "source": []
  }
 ],
 "metadata": {
  "language_info": {
   "name": "python"
  },
  "orig_nbformat": 4
 },
 "nbformat": 4,
 "nbformat_minor": 2
}
