{
 "cells": [
  {
   "cell_type": "markdown",
   "metadata": {},
   "source": [
    "# Limpeza de dados e análise usando `pandas`."
   ]
  },
  {
   "cell_type": "markdown",
   "metadata": {},
   "source": [
    "O que é importante para uma análise?\n",
    "\n",
    "- Encontrar inconsistências e problemas.\n",
    "\n",
    "- Sumarizar o 'comportamento' de alguns atributos. \n",
    "\n",
    "- Compreender a estrutura dos dados.\n",
    "\n",
    "- Saber reconhecer variáveis importantes e extrair informações visuais. \n",
    "\n",
    "- Checar pressupostos utilizando teste de hipótese (requer conhecimento em estatística)"
   ]
  },
  {
   "cell_type": "markdown",
   "metadata": {},
   "source": [
    "Já temos as ferramentas necessárias para realizar a maioria das análises. Resta saber como faremos essas análises visuais. \n",
    "\n",
    "Na **prática**, usaremos módulos em Python que são responsáveis pela construção de gráficos e análise gráfica, como `matplotlib`, `seaborn` ou `plotly`. Esses tópicos serão abordados em um outro módulo. Neste caso, iremos mostrar os plots usando `pandas`."
   ]
  },
  {
   "cell_type": "code",
   "execution_count": null,
   "metadata": {},
   "outputs": [],
   "source": [
    "import pandas as pd \n",
    "import numpy as np \n",
    "import matplotlib.pyplot as plt "
   ]
  },
  {
   "cell_type": "code",
   "execution_count": null,
   "metadata": {},
   "outputs": [],
   "source": [
    "df = pd.read_csv('https://raw.githubusercontent.com/mdrs-thiago/uerj-topicos-a/main/datasets/occupancy_detection/class_occupancy_detection.csv')"
   ]
  },
  {
   "cell_type": "code",
   "execution_count": null,
   "metadata": {},
   "outputs": [],
   "source": [
    "df.head()"
   ]
  },
  {
   "cell_type": "code",
   "execution_count": null,
   "metadata": {},
   "outputs": [],
   "source": [
    "df.plot(kind='scatter',x='Temperature',y='CO2')"
   ]
  },
  {
   "cell_type": "code",
   "execution_count": null,
   "metadata": {},
   "outputs": [],
   "source": [
    "df.plot(kind='scatter',x='Light',y='CO2')"
   ]
  },
  {
   "cell_type": "code",
   "execution_count": null,
   "metadata": {},
   "outputs": [],
   "source": [
    "df"
   ]
  },
  {
   "cell_type": "code",
   "execution_count": null,
   "metadata": {},
   "outputs": [],
   "source": [
    "def remove_hour(row):\n",
    "    row['date'] = row['date'].split()[0]\n",
    "    return row\n",
    "\n",
    "new_df = df.apply(remove_hour,axis='columns')"
   ]
  },
  {
   "cell_type": "code",
   "execution_count": null,
   "metadata": {},
   "outputs": [],
   "source": [
    "new_df.groupby(['date','Occupancy']).size()"
   ]
  },
  {
   "cell_type": "code",
   "execution_count": null,
   "metadata": {},
   "outputs": [],
   "source": [
    "new_df.groupby(['date','Occupancy']).size().unstack()"
   ]
  },
  {
   "cell_type": "code",
   "execution_count": null,
   "metadata": {},
   "outputs": [],
   "source": [
    "new_df.groupby(['date','Occupancy']).size().unstack().plot(kind='bar')"
   ]
  },
  {
   "cell_type": "code",
   "execution_count": null,
   "metadata": {},
   "outputs": [],
   "source": [
    "new_df.groupby(['date','Occupancy']).size().unstack().plot(kind='bar', stacked=True)"
   ]
  },
  {
   "cell_type": "code",
   "execution_count": null,
   "metadata": {},
   "outputs": [],
   "source": [
    "new_df.groupby(['date','Occupancy']).agg({'Light':'mean'}).unstack().plot(kind='bar')"
   ]
  },
  {
   "cell_type": "markdown",
   "metadata": {},
   "source": [
    "## Lidando com dados faltantes"
   ]
  },
  {
   "cell_type": "markdown",
   "metadata": {},
   "source": [
    "Nem todas as bases de dados estão completamente preenchidas, e precisamos saber como lidamos com essas inconsistências. \n",
    "\n",
    "Geralmente precisamos avaliar dados incoerentes ou faltantes. E como avaliamos isso? \n",
    "\n",
    "Usamos geralmente funções e análises que já vimos anteriormente..."
   ]
  },
  {
   "cell_type": "code",
   "execution_count": null,
   "metadata": {},
   "outputs": [],
   "source": [
    "#Exemplo 1 - Vendo dados faltantes \n",
    "df.isna()"
   ]
  },
  {
   "cell_type": "code",
   "execution_count": null,
   "metadata": {},
   "outputs": [],
   "source": [
    "#Exemplo 2 - E se quisermos ver dados inconsistentes? \n",
    "#Podemos usar o describe, ver valores únicos, etc.\n",
    "df.describe()"
   ]
  },
  {
   "cell_type": "code",
   "execution_count": null,
   "metadata": {},
   "outputs": [],
   "source": [
    "#Para os valores faltantes que queremos preencher, usaremos o fillna."
   ]
  },
  {
   "cell_type": "code",
   "execution_count": null,
   "metadata": {},
   "outputs": [],
   "source": [
    "#Enquanto que, para os dados inconsistentes, usaremos o replace.\n",
    "#Ou podemos usar alguma forma que já vimos..."
   ]
  },
  {
   "cell_type": "markdown",
   "metadata": {},
   "source": []
  },
  {
   "cell_type": "markdown",
   "metadata": {},
   "source": [
    "## Exercícios"
   ]
  },
  {
   "cell_type": "markdown",
   "metadata": {},
   "source": [
    "1. Considere a base de dados sobre o desempenho de estudantes em uma prova. Essa base de dados contém dados socio-econômicos e as notas em três disciplinas (Redação, Literatura e Matemática). Faça uma análise de dados para extrair informações que possam ser relevantes ao problema. \n",
    "\n",
    "Tente montar os resultados para, no mínimo, os seguintes questionamentos:\n",
    "\n",
    "- Quantidade de alunos em função do grau de escolaridade dos pais.\n",
    "\n",
    "- Notas de Matemática dos alunos em função do grau de escolaridade dos pais. \n",
    "\n",
    "- Relação entre a nota de Literatura e Redação.\n",
    "\n",
    "- Relação entre a nota de Redação e Matemática. "
   ]
  },
  {
   "cell_type": "code",
   "execution_count": null,
   "metadata": {},
   "outputs": [],
   "source": [
    "df = pd.read_csv('https://raw.githubusercontent.com/mdrs-thiago/uerj-topicos-a/main/datasets/StudentsPerformance.csv')"
   ]
  },
  {
   "cell_type": "code",
   "execution_count": null,
   "metadata": {},
   "outputs": [],
   "source": [
    "df"
   ]
  },
  {
   "cell_type": "markdown",
   "metadata": {},
   "source": [
    "2. Considere agora a base de dados **Netflix**, que contém informações de todo o catálogo da rede de streaming. Esta base de dados contém dados que podem ser importantes para os diferentes títulos adicionados. Explore a base de dados e extraia informações que podem ser úteis para esse tipo de problema. Lembre-se que este problema é de escopo aberto, então busque informações e relações que podem ser importantes. "
   ]
  },
  {
   "cell_type": "code",
   "execution_count": null,
   "metadata": {},
   "outputs": [],
   "source": [
    "df = pd.read_csv('https://raw.githubusercontent.com/mdrs-thiago/uerj-topicos-a/main/datasets/netflix_titles.csv')"
   ]
  },
  {
   "cell_type": "code",
   "execution_count": null,
   "metadata": {},
   "outputs": [],
   "source": [
    "df"
   ]
  },
  {
   "cell_type": "code",
   "execution_count": null,
   "metadata": {},
   "outputs": [],
   "source": []
  }
 ],
 "metadata": {
  "kernelspec": {
   "display_name": "Python 3.10.4 64-bit",
   "language": "python",
   "name": "python3"
  },
  "language_info": {
   "codemirror_mode": {
    "name": "ipython",
    "version": 3
   },
   "file_extension": ".py",
   "mimetype": "text/x-python",
   "name": "python",
   "nbconvert_exporter": "python",
   "pygments_lexer": "ipython3",
   "version": "3.10.4"
  },
  "orig_nbformat": 4,
  "vscode": {
   "interpreter": {
    "hash": "d044c6e0ce06759120adefce77398d00e1228e64d92f3f185fbd024a7701b8e0"
   }
  }
 },
 "nbformat": 4,
 "nbformat_minor": 2
}
